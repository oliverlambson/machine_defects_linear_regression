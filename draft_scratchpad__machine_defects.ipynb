{
 "cells": [
  {
   "cell_type": "code",
   "execution_count": 1,
   "metadata": {},
   "outputs": [],
   "source": [
    "import pandas as pd\n",
    "import numpy as np\n",
    "import matplotlib.pyplot as plt"
   ]
  },
  {
   "cell_type": "markdown",
   "metadata": {},
   "source": [
    "# 0. Read-in data"
   ]
  },
  {
   "cell_type": "code",
   "execution_count": 2,
   "metadata": {},
   "outputs": [
    {
     "data": {
      "text/plain": [
       "(26, 6)"
      ]
     },
     "execution_count": 2,
     "metadata": {},
     "output_type": "execute_result"
    }
   ],
   "source": [
    "df = pd.read_excel('RAW-DATA_machine-defects.xlsx')\n",
    "df.shape"
   ]
  },
  {
   "cell_type": "code",
   "execution_count": 3,
   "metadata": {},
   "outputs": [
    {
     "data": {
      "text/html": [
       "<div>\n",
       "<style scoped>\n",
       "    .dataframe tbody tr th:only-of-type {\n",
       "        vertical-align: middle;\n",
       "    }\n",
       "\n",
       "    .dataframe tbody tr th {\n",
       "        vertical-align: top;\n",
       "    }\n",
       "\n",
       "    .dataframe thead th {\n",
       "        text-align: right;\n",
       "    }\n",
       "</style>\n",
       "<table border=\"1\" class=\"dataframe\">\n",
       "  <thead>\n",
       "    <tr style=\"text-align: right;\">\n",
       "      <th></th>\n",
       "      <th>Machines</th>\n",
       "      <th>Defects</th>\n",
       "      <th>Maintenance</th>\n",
       "      <th>Technicians</th>\n",
       "      <th>Age</th>\n",
       "      <th>Tool</th>\n",
       "    </tr>\n",
       "  </thead>\n",
       "  <tbody>\n",
       "    <tr>\n",
       "      <td>0</td>\n",
       "      <td>1</td>\n",
       "      <td>860</td>\n",
       "      <td>26</td>\n",
       "      <td>5</td>\n",
       "      <td>6.0</td>\n",
       "      <td>18.3</td>\n",
       "    </tr>\n",
       "    <tr>\n",
       "      <td>1</td>\n",
       "      <td>2</td>\n",
       "      <td>890</td>\n",
       "      <td>27</td>\n",
       "      <td>2</td>\n",
       "      <td>7.0</td>\n",
       "      <td>10.2</td>\n",
       "    </tr>\n",
       "    <tr>\n",
       "      <td>2</td>\n",
       "      <td>3</td>\n",
       "      <td>852</td>\n",
       "      <td>20</td>\n",
       "      <td>3</td>\n",
       "      <td>5.2</td>\n",
       "      <td>14.7</td>\n",
       "    </tr>\n",
       "    <tr>\n",
       "      <td>3</td>\n",
       "      <td>4</td>\n",
       "      <td>889</td>\n",
       "      <td>28</td>\n",
       "      <td>3</td>\n",
       "      <td>4.3</td>\n",
       "      <td>13.1</td>\n",
       "    </tr>\n",
       "    <tr>\n",
       "      <td>4</td>\n",
       "      <td>5</td>\n",
       "      <td>1037</td>\n",
       "      <td>25</td>\n",
       "      <td>4</td>\n",
       "      <td>13.5</td>\n",
       "      <td>7.6</td>\n",
       "    </tr>\n",
       "  </tbody>\n",
       "</table>\n",
       "</div>"
      ],
      "text/plain": [
       "   Machines  Defects  Maintenance  Technicians   Age  Tool\n",
       "0         1      860           26            5   6.0  18.3\n",
       "1         2      890           27            2   7.0  10.2\n",
       "2         3      852           20            3   5.2  14.7\n",
       "3         4      889           28            3   4.3  13.1\n",
       "4         5     1037           25            4  13.5   7.6"
      ]
     },
     "execution_count": 3,
     "metadata": {},
     "output_type": "execute_result"
    }
   ],
   "source": [
    "df.head()"
   ]
  },
  {
   "cell_type": "markdown",
   "metadata": {},
   "source": [
    "**Reorder columns to position output variable first (only for readability):**"
   ]
  },
  {
   "cell_type": "code",
   "execution_count": 4,
   "metadata": {},
   "outputs": [],
   "source": [
    "columns = ['Defects', 'Machines', 'Maintenance', 'Technicians', 'Age', 'Tool']\n",
    "df = df.reindex(columns=columns)"
   ]
  },
  {
   "cell_type": "code",
   "execution_count": 5,
   "metadata": {},
   "outputs": [
    {
     "data": {
      "text/html": [
       "<div>\n",
       "<style scoped>\n",
       "    .dataframe tbody tr th:only-of-type {\n",
       "        vertical-align: middle;\n",
       "    }\n",
       "\n",
       "    .dataframe tbody tr th {\n",
       "        vertical-align: top;\n",
       "    }\n",
       "\n",
       "    .dataframe thead th {\n",
       "        text-align: right;\n",
       "    }\n",
       "</style>\n",
       "<table border=\"1\" class=\"dataframe\">\n",
       "  <thead>\n",
       "    <tr style=\"text-align: right;\">\n",
       "      <th></th>\n",
       "      <th>Defects</th>\n",
       "      <th>Machines</th>\n",
       "      <th>Maintenance</th>\n",
       "      <th>Technicians</th>\n",
       "      <th>Age</th>\n",
       "      <th>Tool</th>\n",
       "    </tr>\n",
       "  </thead>\n",
       "  <tbody>\n",
       "    <tr>\n",
       "      <td>count</td>\n",
       "      <td>26.000000</td>\n",
       "      <td>26.000000</td>\n",
       "      <td>26.000000</td>\n",
       "      <td>26.000000</td>\n",
       "      <td>26.000000</td>\n",
       "      <td>26.000000</td>\n",
       "    </tr>\n",
       "    <tr>\n",
       "      <td>mean</td>\n",
       "      <td>1006.961538</td>\n",
       "      <td>13.500000</td>\n",
       "      <td>22.615385</td>\n",
       "      <td>4.115385</td>\n",
       "      <td>9.738462</td>\n",
       "      <td>11.038462</td>\n",
       "    </tr>\n",
       "    <tr>\n",
       "      <td>std</td>\n",
       "      <td>197.388851</td>\n",
       "      <td>7.648529</td>\n",
       "      <td>3.742480</td>\n",
       "      <td>1.142871</td>\n",
       "      <td>3.810520</td>\n",
       "      <td>4.484558</td>\n",
       "    </tr>\n",
       "    <tr>\n",
       "      <td>min</td>\n",
       "      <td>724.000000</td>\n",
       "      <td>1.000000</td>\n",
       "      <td>15.000000</td>\n",
       "      <td>2.000000</td>\n",
       "      <td>4.300000</td>\n",
       "      <td>4.000000</td>\n",
       "    </tr>\n",
       "    <tr>\n",
       "      <td>25%</td>\n",
       "      <td>867.250000</td>\n",
       "      <td>7.250000</td>\n",
       "      <td>20.000000</td>\n",
       "      <td>3.000000</td>\n",
       "      <td>6.700000</td>\n",
       "      <td>7.900000</td>\n",
       "    </tr>\n",
       "    <tr>\n",
       "      <td>50%</td>\n",
       "      <td>974.500000</td>\n",
       "      <td>13.500000</td>\n",
       "      <td>23.500000</td>\n",
       "      <td>4.000000</td>\n",
       "      <td>8.500000</td>\n",
       "      <td>10.000000</td>\n",
       "    </tr>\n",
       "    <tr>\n",
       "      <td>75%</td>\n",
       "      <td>1104.000000</td>\n",
       "      <td>19.750000</td>\n",
       "      <td>25.750000</td>\n",
       "      <td>5.000000</td>\n",
       "      <td>13.575000</td>\n",
       "      <td>15.450000</td>\n",
       "    </tr>\n",
       "    <tr>\n",
       "      <td>max</td>\n",
       "      <td>1439.000000</td>\n",
       "      <td>26.000000</td>\n",
       "      <td>28.000000</td>\n",
       "      <td>6.000000</td>\n",
       "      <td>17.100000</td>\n",
       "      <td>18.500000</td>\n",
       "    </tr>\n",
       "  </tbody>\n",
       "</table>\n",
       "</div>"
      ],
      "text/plain": [
       "           Defects   Machines  Maintenance  Technicians        Age       Tool\n",
       "count    26.000000  26.000000    26.000000    26.000000  26.000000  26.000000\n",
       "mean   1006.961538  13.500000    22.615385     4.115385   9.738462  11.038462\n",
       "std     197.388851   7.648529     3.742480     1.142871   3.810520   4.484558\n",
       "min     724.000000   1.000000    15.000000     2.000000   4.300000   4.000000\n",
       "25%     867.250000   7.250000    20.000000     3.000000   6.700000   7.900000\n",
       "50%     974.500000  13.500000    23.500000     4.000000   8.500000  10.000000\n",
       "75%    1104.000000  19.750000    25.750000     5.000000  13.575000  15.450000\n",
       "max    1439.000000  26.000000    28.000000     6.000000  17.100000  18.500000"
      ]
     },
     "execution_count": 5,
     "metadata": {},
     "output_type": "execute_result"
    }
   ],
   "source": [
    "df.describe()"
   ]
  },
  {
   "cell_type": "markdown",
   "metadata": {},
   "source": [
    "# 1. Distribution of each given feature: Histograms"
   ]
  },
  {
   "cell_type": "code",
   "execution_count": 58,
   "metadata": {},
   "outputs": [
    {
     "data": {
      "image/png": "[encoded data removed]",
      "text/plain": [
       "<Figure size 720x432 with 12 Axes>"
      ]
     },
     "metadata": {
      "needs_background": "light"
     },
     "output_type": "display_data"
    }
   ],
   "source": [
    "fig_k, ax_k = plt.subplots(2, 3, figsize=(10, 6))\n",
    "i = 0\n",
    "for column in df:\n",
    "    ax = ax_k[i//3, i%3]\n",
    "    df[column].hist(ax=ax, bins='auto', color='C0')\n",
    "    df[column].plot.kde(ax=ax, secondary_y=True, color='C1')\n",
    "    ax.set(title=column, ylabel='Frequency')\n",
    "    i += 1\n",
    "plt.tight_layout()\n",
    "plt.show()"
   ]
  },
  {
   "cell_type": "markdown",
   "metadata": {},
   "source": [
    "## Conclusions from feature distributions\n",
    "The above distribution plots include both a histogram and Gaussian Kernel Density Estimate (KDE) plot for each feature (variable) in the dataset. A KDE (as the name implies) estimates the variable's probability density function—the continuous equivalent to a the inherently discrete histogram. \n",
    "\n",
    "Due to the limited sample size (26) the KDEs have very low peak densities (for context, the area under the KDE curve is 1), this means that the KDEs do *not* provide particularly reliable pictures of the population's distribusion.\n",
    "\n",
    "*(reading from left-to-right, then top-to-bottom)*\n",
    "\n",
    "1. **Defects:** Unimodal distribution, right skew due to an higher number of machines in the highest defect bin than would be expeted of a normal/Gaussian distribution. \n",
    "2. **Machines:** Machine number is a unique identifier for each machine, therefore the histogram of machine number frequency contains *no useful information* since each idenetifier is unique and has no inherent meaning. \n",
    "3. **Maintenance:** Potentially bimodal distribution, but centre dip could be a result of binning. Too few data points to be sure.\n",
    "4. **Technicians:** Again, potentially bimodal distribution, but centre zero could be a result of binning. Too few data points to be sure (may be pseudo-normal).\n",
    "5. **Age:** Likely bimodal distribution, meaning there are a group of 'new' machines and a group of 'older' machines.  \n",
    "6. **Tool:** Again, likely bimodal distribuition. This means they can be grouped into one a group of machines undergoing frequent tool changes, and another group subjected to fewer toolchanges."
   ]
  },
  {
   "cell_type": "markdown",
   "metadata": {},
   "source": [
    "# 2. Determining model requirements \n",
    "## (this part might be wrong... std err. from Excel not the same as descriptive stats SE)\n",
    "\n",
    "The model is intended to be used for prediction of the number of defective parts a machine will produce in a given year. Given that the available dataset is relatively small, it is unreasonable to expect great accuracy, from the model (i.e. a small prediction interval).\n",
    "\n",
    "In observing the histogram for Defects per machine per year, it is apparent that the distribution is non-gaussian, being right-skew but with a rise in the number machines with high defects per year that cannot simply be considered outliers.\n",
    "\n",
    "The model would be useful if it could at least predict whether the number of defective parts would be high or low (above or below the median), and even more useful if it could predict the quartile in which the number of defects will fall.\n",
    "\n",
    "**These goals equate to the following standard error requirements, given a 95% confidence interval:**"
   ]
  },
  {
   "cell_type": "code",
   "execution_count": 59,
   "metadata": {},
   "outputs": [],
   "source": [
    "from scipy.stats import norm\n",
    "def zscore(p_confidence_interval):\n",
    "    return norm.ppf(1-(1-p_confidence_interval)/2)"
   ]
  },
  {
   "cell_type": "code",
   "execution_count": 60,
   "metadata": {},
   "outputs": [
    {
     "name": "stdout",
     "output_type": "stream",
     "text": [
      "1.96\n"
     ]
    }
   ],
   "source": [
    "# test zscore\n",
    "print(f'{zscore(0.95):.2f}') # should be 1.96"
   ]
  },
  {
   "cell_type": "markdown",
   "metadata": {},
   "source": [
    "**Generate box plot of defects to visualise the distribution, mean, median, and quartile ranges of the parameter to predict (defects):**  "
   ]
  },
  {
   "cell_type": "code",
   "execution_count": 62,
   "metadata": {},
   "outputs": [
    {
     "data": {
      "image/png": "[encoded data removed]",
      "text/plain": [
       "<Figure size 432x288 with 1 Axes>"
      ]
     },
     "metadata": {
      "needs_background": "light"
     },
     "output_type": "display_data"
    }
   ],
   "source": [
    "plt.figure()\n",
    "df['Defects'].plot(kind='box', showmeans=True, vert=False, title='Defects Box Plot')\n",
    "plt.show()"
   ]
  },
  {
   "cell_type": "markdown",
   "metadata": {},
   "source": [
    "## 2.a. Max standard error to predict above/below median"
   ]
  },
  {
   "cell_type": "code",
   "execution_count": 63,
   "metadata": {},
   "outputs": [
    {
     "name": "stdout",
     "output_type": "stream",
     "text": [
      "Half quantiles:\n",
      "0.0     724.0\n",
      "0.5     974.5\n",
      "1.0    1439.0\n",
      "Name: Defects, dtype: float64\n",
      "\n",
      "Half quantile ranges:\n",
      "0    250.5\n",
      "1    464.5\n",
      "dtype: float64\n",
      "\n",
      "Minimum half quantile range = 250.5\n"
     ]
    }
   ],
   "source": [
    "'''\n",
    "Here, the term \"half quantile\" is used to describe the breaking up \n",
    "of the probability distribution above and below the median. This is\n",
    "not standard terminology, but is useful for some brevity in code. \n",
    "'''\n",
    "\n",
    "half_quantiles = df['Defects'].quantile([0, 0.5, 1])\n",
    "print(f'Half quantiles:\\n{half_quantiles}\\n')\n",
    "half_quantile_ranges = pd.Series(np.diff(half_quantiles))\n",
    "print(f'Half quantile ranges:\\n{half_quantile_ranges}\\n')\n",
    "half_quantile_range_min = half_quantile_ranges.min()\n",
    "print(f'Minimum half quantile range = {half_quantile_range_min}')"
   ]
  },
  {
   "cell_type": "code",
   "execution_count": 64,
   "metadata": {},
   "outputs": [
    {
     "name": "stdout",
     "output_type": "stream",
     "text": [
      "Maximum standard error to predict results above/below mean to 95% CI = 63.90\n",
      "Maximum standard error to predict results above/below mean to 90% CI = 76.15\n"
     ]
    }
   ],
   "source": [
    "half_quantile_min_SE_95 = (half_quantile_range_min/2)/zscore(0.95)\n",
    "half_quantile_min_SE_90 = (half_quantile_range_min/2)/zscore(0.90)\n",
    "print(f'Maximum standard error to predict results above/below mean to 95% CI = {half_quantile_min_SE_95:.2f}')\n",
    "print(f'Maximum standard error to predict results above/below mean to 90% CI = {half_quantile_min_SE_90:.2f}')"
   ]
  },
  {
   "cell_type": "markdown",
   "metadata": {},
   "source": [
    "## 2.b. Max standard error to predict quartile"
   ]
  },
  {
   "cell_type": "code",
   "execution_count": 65,
   "metadata": {},
   "outputs": [
    {
     "name": "stdout",
     "output_type": "stream",
     "text": [
      "Quartiles:\n",
      "0.00     724.00\n",
      "0.25     867.25\n",
      "0.50     974.50\n",
      "0.75    1104.00\n",
      "1.00    1439.00\n",
      "Name: Defects, dtype: float64\n",
      "\n",
      "Quartile ranges:\n",
      "0    143.25\n",
      "1    107.25\n",
      "2    129.50\n",
      "3    335.00\n",
      "dtype: float64\n",
      "\n",
      "Minimum quartile range = 107.25\n"
     ]
    }
   ],
   "source": [
    "quartiles = df['Defects'].quantile([0, 0.25, 0.5, 0.75, 1])\n",
    "print(f'Quartiles:\\n{quartiles}\\n')\n",
    "quartile_ranges = pd.Series(np.diff(quartiles))\n",
    "print(f'Quartile ranges:\\n{quartile_ranges}\\n')\n",
    "quartile_range_min = quartile_ranges.min()\n",
    "print(f'Minimum quartile range = {quartile_range_min}')"
   ]
  },
  {
   "cell_type": "code",
   "execution_count": 66,
   "metadata": {},
   "outputs": [
    {
     "name": "stdout",
     "output_type": "stream",
     "text": [
      "Maximum standard error to predict quartile to 95% CI = 27.36\n",
      "Maximum standard error to predict quartile to 90% CI = 32.60\n"
     ]
    }
   ],
   "source": [
    "quartile_min_SE_95 = (quartile_range_min/2)/zscore(0.95)\n",
    "quartile_min_SE_90 = (quartile_range_min/2)/zscore(0.90)\n",
    "print(f'Maximum standard error to predict quartile to 95% CI = {quartile_min_SE_95:.2f}')\n",
    "print(f'Maximum standard error to predict quartile to 90% CI = {quartile_min_SE_90:.2f}')"
   ]
  },
  {
   "cell_type": "markdown",
   "metadata": {},
   "source": [
    "# 3. Correlation analysis: Initial scatter plots of each feature vs. Defects"
   ]
  },
  {
   "cell_type": "code",
   "execution_count": 67,
   "metadata": {},
   "outputs": [
    {
     "data": {
      "image/png": "[encoded data removed]",
      "text/plain": [
       "<Figure size 720x432 with 6 Axes>"
      ]
     },
     "metadata": {
      "needs_background": "light"
     },
     "output_type": "display_data"
    }
   ],
   "source": [
    "fig_s, ax_s = plt.subplots(2, 3, figsize=(10, 6))\n",
    "i = 0\n",
    "for column in df:\n",
    "    df.plot(x=column, y='Defects', kind='scatter', ax=ax_s[i//3, i%3], title=column)\n",
    "    i += 1\n",
    "plt.tight_layout()\n",
    "plt.show()"
   ]
  },
  {
   "cell_type": "markdown",
   "metadata": {},
   "source": [
    "## Conclusions from initial scatter plots:\n",
    "\n",
    "The above scatter plots show the ...\n",
    "\n",
    "*(reading from left-to-right, then top-to-bottom)*\n",
    "\n",
    "1. **Defects:** Ignore, plot is simply a result of convenience for the loop.\n",
    "2. **Machines:** The machine number is ***not correlated*** with the number of yearly defects. This is expected as machine number is an effectively random assignment and has no meaning other than being a unique identifier.\n",
    "3. **Maintenance:** The number of maintenance operations performed is ***somewhat negatively correlated*** with the number of yearly defects. This makes sense as one would expect more frequently maintained machines to produce fewer defective parts.\n",
    "4. **Technicians:** The number of technicians responsible for a machine appears to have ***no clear correlation*** with the number of yearly defects. It is possible on a larger sample set may show a stronger correlation, but this sample of 26 does not.\n",
    "5. **Age:** The age of a machine is ***somewhat positively correlated*** with the number of yearly defects. This, again seems reasonable as one would expect older machines to perform more poorly.\n",
    "6. **Tool:** The average number of tool changes per month performed by a machine is quite ***strongly negatively correlated*** with the number of yearly defects (Defects). This suggests that the longer a tool is in use, the more frequently it produces defective parts. This leads to the hypothesis that potentially an inverse relationship exists, supported by the fact that the correlation appears to potentially be non-linear (although difficult to tell given the small sample set).\n"
   ]
  },
  {
   "cell_type": "code",
   "execution_count": 69,
   "metadata": {},
   "outputs": [],
   "source": [
    "df['inv_Tool'] = 1/df['Tool']"
   ]
  },
  {
   "cell_type": "code",
   "execution_count": 70,
   "metadata": {},
   "outputs": [],
   "source": [
    "df['ln_Tool'] = np.log(df['Tool'])"
   ]
  },
  {
   "cell_type": "code",
   "execution_count": 71,
   "metadata": {},
   "outputs": [],
   "source": [
    "df['inv_Maintenance'] = 1/df['Maintenance']"
   ]
  },
  {
   "cell_type": "code",
   "execution_count": 72,
   "metadata": {},
   "outputs": [],
   "source": [
    "df['ln_Maintenance'] = np.log(df['Maintenance'])"
   ]
  },
  {
   "cell_type": "code",
   "execution_count": 73,
   "metadata": {},
   "outputs": [],
   "source": [
    "df['inv_Age'] = 1/df['Age']"
   ]
  },
  {
   "cell_type": "code",
   "execution_count": 74,
   "metadata": {},
   "outputs": [],
   "source": [
    "df['ln_Age'] = np.log(df['Age'])"
   ]
  },
  {
   "cell_type": "code",
   "execution_count": 75,
   "metadata": {},
   "outputs": [],
   "source": [
    "df['sqrt_Age'] = np.sqrt(df['Age'])"
   ]
  },
  {
   "cell_type": "code",
   "execution_count": 76,
   "metadata": {},
   "outputs": [],
   "source": [
    "df = df[['Defects', \n",
    "         'Tool', 'inv_Tool', 'ln_Tool', \n",
    "         'Age', 'ln_Age', 'sqrt_Age', \n",
    "         'Maintenance', 'inv_Maintenance', 'ln_Maintenance', \n",
    "         'Technicians', \n",
    "         'Machines'\n",
    "        ]]"
   ]
  },
  {
   "cell_type": "code",
   "execution_count": 77,
   "metadata": {},
   "outputs": [
    {
     "data": {
      "text/html": [
       "<div>\n",
       "<style scoped>\n",
       "    .dataframe tbody tr th:only-of-type {\n",
       "        vertical-align: middle;\n",
       "    }\n",
       "\n",
       "    .dataframe tbody tr th {\n",
       "        vertical-align: top;\n",
       "    }\n",
       "\n",
       "    .dataframe thead th {\n",
       "        text-align: right;\n",
       "    }\n",
       "</style>\n",
       "<table border=\"1\" class=\"dataframe\">\n",
       "  <thead>\n",
       "    <tr style=\"text-align: right;\">\n",
       "      <th></th>\n",
       "      <th>Defects</th>\n",
       "      <th>Tool</th>\n",
       "      <th>inv_Tool</th>\n",
       "      <th>ln_Tool</th>\n",
       "      <th>Age</th>\n",
       "      <th>ln_Age</th>\n",
       "      <th>sqrt_Age</th>\n",
       "      <th>Maintenance</th>\n",
       "      <th>inv_Maintenance</th>\n",
       "      <th>ln_Maintenance</th>\n",
       "      <th>Technicians</th>\n",
       "      <th>Machines</th>\n",
       "    </tr>\n",
       "  </thead>\n",
       "  <tbody>\n",
       "    <tr>\n",
       "      <td>Defects</td>\n",
       "      <td>1.000000</td>\n",
       "      <td>-0.866531</td>\n",
       "      <td>0.902879</td>\n",
       "      <td>-0.907643</td>\n",
       "      <td>0.759517</td>\n",
       "      <td>0.726426</td>\n",
       "      <td>0.745584</td>\n",
       "      <td>-0.735451</td>\n",
       "      <td>0.754281</td>\n",
       "      <td>-0.746714</td>\n",
       "      <td>0.258720</td>\n",
       "      <td>-0.150556</td>\n",
       "    </tr>\n",
       "    <tr>\n",
       "      <td>Tool</td>\n",
       "      <td>-0.866531</td>\n",
       "      <td>1.000000</td>\n",
       "      <td>-0.894025</td>\n",
       "      <td>0.975437</td>\n",
       "      <td>-0.661026</td>\n",
       "      <td>-0.650414</td>\n",
       "      <td>-0.657848</td>\n",
       "      <td>0.654897</td>\n",
       "      <td>-0.663738</td>\n",
       "      <td>0.661534</td>\n",
       "      <td>-0.138259</td>\n",
       "      <td>0.138308</td>\n",
       "    </tr>\n",
       "    <tr>\n",
       "      <td>inv_Tool</td>\n",
       "      <td>0.902879</td>\n",
       "      <td>-0.894025</td>\n",
       "      <td>1.000000</td>\n",
       "      <td>-0.970211</td>\n",
       "      <td>0.651959</td>\n",
       "      <td>0.627428</td>\n",
       "      <td>0.641048</td>\n",
       "      <td>-0.712344</td>\n",
       "      <td>0.758901</td>\n",
       "      <td>-0.737157</td>\n",
       "      <td>0.217170</td>\n",
       "      <td>-0.032266</td>\n",
       "    </tr>\n",
       "    <tr>\n",
       "      <td>ln_Tool</td>\n",
       "      <td>-0.907643</td>\n",
       "      <td>0.975437</td>\n",
       "      <td>-0.970211</td>\n",
       "      <td>1.000000</td>\n",
       "      <td>-0.675831</td>\n",
       "      <td>-0.659516</td>\n",
       "      <td>-0.669459</td>\n",
       "      <td>0.701614</td>\n",
       "      <td>-0.728402</td>\n",
       "      <td>0.716981</td>\n",
       "      <td>-0.188828</td>\n",
       "      <td>0.093670</td>\n",
       "    </tr>\n",
       "    <tr>\n",
       "      <td>Age</td>\n",
       "      <td>0.759517</td>\n",
       "      <td>-0.661026</td>\n",
       "      <td>0.651959</td>\n",
       "      <td>-0.675831</td>\n",
       "      <td>1.000000</td>\n",
       "      <td>0.989760</td>\n",
       "      <td>0.997610</td>\n",
       "      <td>-0.433960</td>\n",
       "      <td>0.438952</td>\n",
       "      <td>-0.435968</td>\n",
       "      <td>0.127530</td>\n",
       "      <td>-0.042134</td>\n",
       "    </tr>\n",
       "    <tr>\n",
       "      <td>ln_Age</td>\n",
       "      <td>0.726426</td>\n",
       "      <td>-0.650414</td>\n",
       "      <td>0.627428</td>\n",
       "      <td>-0.659516</td>\n",
       "      <td>0.989760</td>\n",
       "      <td>1.000000</td>\n",
       "      <td>0.997227</td>\n",
       "      <td>-0.433014</td>\n",
       "      <td>0.426120</td>\n",
       "      <td>-0.429229</td>\n",
       "      <td>0.150710</td>\n",
       "      <td>0.010454</td>\n",
       "    </tr>\n",
       "    <tr>\n",
       "      <td>sqrt_Age</td>\n",
       "      <td>0.745584</td>\n",
       "      <td>-0.657848</td>\n",
       "      <td>0.641048</td>\n",
       "      <td>-0.669459</td>\n",
       "      <td>0.997610</td>\n",
       "      <td>0.997227</td>\n",
       "      <td>1.000000</td>\n",
       "      <td>-0.433401</td>\n",
       "      <td>0.432330</td>\n",
       "      <td>-0.432459</td>\n",
       "      <td>0.138176</td>\n",
       "      <td>-0.017822</td>\n",
       "    </tr>\n",
       "    <tr>\n",
       "      <td>Maintenance</td>\n",
       "      <td>-0.735451</td>\n",
       "      <td>0.654897</td>\n",
       "      <td>-0.712344</td>\n",
       "      <td>0.701614</td>\n",
       "      <td>-0.433960</td>\n",
       "      <td>-0.433014</td>\n",
       "      <td>-0.433401</td>\n",
       "      <td>1.000000</td>\n",
       "      <td>-0.985632</td>\n",
       "      <td>0.996590</td>\n",
       "      <td>-0.344584</td>\n",
       "      <td>-0.020961</td>\n",
       "    </tr>\n",
       "    <tr>\n",
       "      <td>inv_Maintenance</td>\n",
       "      <td>0.754281</td>\n",
       "      <td>-0.663738</td>\n",
       "      <td>0.758901</td>\n",
       "      <td>-0.728402</td>\n",
       "      <td>0.438952</td>\n",
       "      <td>0.426120</td>\n",
       "      <td>0.432330</td>\n",
       "      <td>-0.985632</td>\n",
       "      <td>1.000000</td>\n",
       "      <td>-0.996188</td>\n",
       "      <td>0.291932</td>\n",
       "      <td>0.003154</td>\n",
       "    </tr>\n",
       "    <tr>\n",
       "      <td>ln_Maintenance</td>\n",
       "      <td>-0.746714</td>\n",
       "      <td>0.661534</td>\n",
       "      <td>-0.737157</td>\n",
       "      <td>0.716981</td>\n",
       "      <td>-0.435968</td>\n",
       "      <td>-0.429229</td>\n",
       "      <td>-0.432459</td>\n",
       "      <td>0.996590</td>\n",
       "      <td>-0.996188</td>\n",
       "      <td>1.000000</td>\n",
       "      <td>-0.318973</td>\n",
       "      <td>-0.011323</td>\n",
       "    </tr>\n",
       "    <tr>\n",
       "      <td>Technicians</td>\n",
       "      <td>0.258720</td>\n",
       "      <td>-0.138259</td>\n",
       "      <td>0.217170</td>\n",
       "      <td>-0.188828</td>\n",
       "      <td>0.127530</td>\n",
       "      <td>0.150710</td>\n",
       "      <td>0.138176</td>\n",
       "      <td>-0.344584</td>\n",
       "      <td>0.291932</td>\n",
       "      <td>-0.318973</td>\n",
       "      <td>1.000000</td>\n",
       "      <td>0.226511</td>\n",
       "    </tr>\n",
       "    <tr>\n",
       "      <td>Machines</td>\n",
       "      <td>-0.150556</td>\n",
       "      <td>0.138308</td>\n",
       "      <td>-0.032266</td>\n",
       "      <td>0.093670</td>\n",
       "      <td>-0.042134</td>\n",
       "      <td>0.010454</td>\n",
       "      <td>-0.017822</td>\n",
       "      <td>-0.020961</td>\n",
       "      <td>0.003154</td>\n",
       "      <td>-0.011323</td>\n",
       "      <td>0.226511</td>\n",
       "      <td>1.000000</td>\n",
       "    </tr>\n",
       "  </tbody>\n",
       "</table>\n",
       "</div>"
      ],
      "text/plain": [
       "                  Defects      Tool  inv_Tool   ln_Tool       Age    ln_Age  \\\n",
       "Defects          1.000000 -0.866531  0.902879 -0.907643  0.759517  0.726426   \n",
       "Tool            -0.866531  1.000000 -0.894025  0.975437 -0.661026 -0.650414   \n",
       "inv_Tool         0.902879 -0.894025  1.000000 -0.970211  0.651959  0.627428   \n",
       "ln_Tool         -0.907643  0.975437 -0.970211  1.000000 -0.675831 -0.659516   \n",
       "Age              0.759517 -0.661026  0.651959 -0.675831  1.000000  0.989760   \n",
       "ln_Age           0.726426 -0.650414  0.627428 -0.659516  0.989760  1.000000   \n",
       "sqrt_Age         0.745584 -0.657848  0.641048 -0.669459  0.997610  0.997227   \n",
       "Maintenance     -0.735451  0.654897 -0.712344  0.701614 -0.433960 -0.433014   \n",
       "inv_Maintenance  0.754281 -0.663738  0.758901 -0.728402  0.438952  0.426120   \n",
       "ln_Maintenance  -0.746714  0.661534 -0.737157  0.716981 -0.435968 -0.429229   \n",
       "Technicians      0.258720 -0.138259  0.217170 -0.188828  0.127530  0.150710   \n",
       "Machines        -0.150556  0.138308 -0.032266  0.093670 -0.042134  0.010454   \n",
       "\n",
       "                 sqrt_Age  Maintenance  inv_Maintenance  ln_Maintenance  \\\n",
       "Defects          0.745584    -0.735451         0.754281       -0.746714   \n",
       "Tool            -0.657848     0.654897        -0.663738        0.661534   \n",
       "inv_Tool         0.641048    -0.712344         0.758901       -0.737157   \n",
       "ln_Tool         -0.669459     0.701614        -0.728402        0.716981   \n",
       "Age              0.997610    -0.433960         0.438952       -0.435968   \n",
       "ln_Age           0.997227    -0.433014         0.426120       -0.429229   \n",
       "sqrt_Age         1.000000    -0.433401         0.432330       -0.432459   \n",
       "Maintenance     -0.433401     1.000000        -0.985632        0.996590   \n",
       "inv_Maintenance  0.432330    -0.985632         1.000000       -0.996188   \n",
       "ln_Maintenance  -0.432459     0.996590        -0.996188        1.000000   \n",
       "Technicians      0.138176    -0.344584         0.291932       -0.318973   \n",
       "Machines        -0.017822    -0.020961         0.003154       -0.011323   \n",
       "\n",
       "                 Technicians  Machines  \n",
       "Defects             0.258720 -0.150556  \n",
       "Tool               -0.138259  0.138308  \n",
       "inv_Tool            0.217170 -0.032266  \n",
       "ln_Tool            -0.188828  0.093670  \n",
       "Age                 0.127530 -0.042134  \n",
       "ln_Age              0.150710  0.010454  \n",
       "sqrt_Age            0.138176 -0.017822  \n",
       "Maintenance        -0.344584 -0.020961  \n",
       "inv_Maintenance     0.291932  0.003154  \n",
       "ln_Maintenance     -0.318973 -0.011323  \n",
       "Technicians         1.000000  0.226511  \n",
       "Machines            0.226511  1.000000  "
      ]
     },
     "execution_count": 77,
     "metadata": {},
     "output_type": "execute_result"
    }
   ],
   "source": [
    "df.corr()"
   ]
  },
  {
   "cell_type": "code",
   "execution_count": 78,
   "metadata": {},
   "outputs": [
    {
     "data": {
      "image/png": "[encoded data removed]",
      "text/plain": [
       "<Figure size 576x432 with 1 Axes>"
      ]
     },
     "metadata": {
      "needs_background": "light"
     },
     "output_type": "display_data"
    }
   ],
   "source": [
    "import statsmodels.graphics.api as smg\n",
    "fig, ax = plt.subplots(figsize=(8, 6))\n",
    "fig = smg.plot_corr(np.abs(df.corr()), xnames=df.columns, ax=ax)\n",
    "plt.show()"
   ]
  },
  {
   "cell_type": "markdown",
   "metadata": {},
   "source": [
    "| Feature | Correlation to Defects<br>& best transformation |\n",
    "|:--|:--|\n",
    "|Tool|Linear correlation good<br>ln(Tool) best|\n",
    "|Age|Linear correlation good<br>no transformation better|\n",
    "|Maintenance|Linear correlation good<br>inv(Maintenance) best|\n",
    "|Technicians|not correlated|\n",
    "|Machines|not correlated|"
   ]
  },
  {
   "cell_type": "code",
   "execution_count": 79,
   "metadata": {},
   "outputs": [],
   "source": [
    "models_features = [\n",
    "    ['Tool'],\n",
    "    ['ln_Tool'],\n",
    "    ['ln_Tool', 'Age', 'inv_Maintenance'],\n",
    "    ['ln_Tool', 'Age', 'Maintenance'],\n",
    "    ['ln_Tool', 'Age'],\n",
    "]\n",
    "n_models = len(models_features)"
   ]
  },
  {
   "cell_type": "code",
   "execution_count": 80,
   "metadata": {},
   "outputs": [],
   "source": [
    "import statsmodels.api as sm"
   ]
  },
  {
   "cell_type": "code",
   "execution_count": 81,
   "metadata": {},
   "outputs": [],
   "source": [
    "y = {}\n",
    "X = {}\n",
    "mod = {}\n",
    "res = {}\n",
    "y_pred = {}\n",
    "for (i, model_features) in enumerate(models_features):\n",
    "    y[i] = df['Defects']\n",
    "    X[i] = df[model_features]\n",
    "    X[i].insert(0, 'Intercept', 1) # add intercept feature\n",
    "    \n",
    "    mod[i] = sm.OLS(y[i], X[i]) # Ordinary Least Squares linear regression\n",
    "    res[i] = mod[i].fit()\n",
    "    \n",
    "    y_pred[i] = res[i].predict(X[i])"
   ]
  },
  {
   "cell_type": "code",
   "execution_count": 82,
   "metadata": {},
   "outputs": [],
   "source": [
    "# models_index = range(n_models)\n",
    "models_columns = [\n",
    "    'features',\n",
    "    'y', \n",
    "    'y_pred', \n",
    "    'X', \n",
    "    'model', \n",
    "    'results',\n",
    "    'Adj R-squared',\n",
    "    'Prob (F-statistic)',\n",
    "    'MSE Model',\n",
    "    'MSE Residuals',\n",
    "    'RMSE Residuals',\n",
    "    'MSE Total',\n",
    "    'AIC',\n",
    "    'BIC',\n",
    "    'BSE',\n",
    "    'HC0_se',\n",
    "    'Condition Number',\n",
    "]\n",
    "# models = pd.DataFrame(index=models_index, columns=models_columns)\n",
    "models = pd.DataFrame(columns=models_columns)\n",
    "\n",
    "for (i, model_features) in enumerate(models_features):\n",
    "    y = df['Defects']\n",
    "    X = df[model_features]\n",
    "    X.insert(0, 'Intercept', 1) # add intercept feature\n",
    "    \n",
    "    model = sm.OLS(y, X) # Ordinary Least Squares linear regression\n",
    "    results = model.fit()\n",
    "    \n",
    "    y_pred = results.predict(X)\n",
    "    \n",
    "    # store\n",
    "#     models.loc[i] = {\n",
    "    models.loc[f'Model {i}'] = {\n",
    "        'features': model_features,\n",
    "        'y': y,\n",
    "        'y_pred': y_pred,\n",
    "        'X': X,\n",
    "        'model': model,\n",
    "        'results': results,\n",
    "        'Adj R-squared': results.rsquared_adj,\n",
    "        'Prob (F-statistic)': results.f_pvalue,\n",
    "        'MSE Model': results.mse_model,\n",
    "        'MSE Residuals': results.mse_resid,\n",
    "        'RMSE Residuals': np.sqrt(results.mse_resid),\n",
    "        'MSE Total': results.mse_total,\n",
    "        'AIC': results.aic,\n",
    "        'BIC': results.bic,\n",
    "        'BSE': results.bse,\n",
    "        'HC0_se': results.HC0_se,\n",
    "        'Condition Number': results.condition_number,\n",
    "    }"
   ]
  },
  {
   "cell_type": "code",
   "execution_count": 83,
   "metadata": {},
   "outputs": [
    {
     "data": {
      "text/html": [
       "<div>\n",
       "<style scoped>\n",
       "    .dataframe tbody tr th:only-of-type {\n",
       "        vertical-align: middle;\n",
       "    }\n",
       "\n",
       "    .dataframe tbody tr th {\n",
       "        vertical-align: top;\n",
       "    }\n",
       "\n",
       "    .dataframe thead th {\n",
       "        text-align: right;\n",
       "    }\n",
       "</style>\n",
       "<table border=\"1\" class=\"dataframe\">\n",
       "  <thead>\n",
       "    <tr style=\"text-align: right;\">\n",
       "      <th></th>\n",
       "      <th>features</th>\n",
       "      <th>y</th>\n",
       "      <th>y_pred</th>\n",
       "      <th>X</th>\n",
       "      <th>model</th>\n",
       "      <th>results</th>\n",
       "      <th>Adj R-squared</th>\n",
       "      <th>Prob (F-statistic)</th>\n",
       "      <th>MSE Model</th>\n",
       "      <th>MSE Residuals</th>\n",
       "      <th>RMSE Residuals</th>\n",
       "      <th>MSE Total</th>\n",
       "      <th>AIC</th>\n",
       "      <th>BIC</th>\n",
       "      <th>BSE</th>\n",
       "      <th>HC0_se</th>\n",
       "      <th>Condition Number</th>\n",
       "    </tr>\n",
       "  </thead>\n",
       "  <tbody>\n",
       "    <tr>\n",
       "      <td>Model 0</td>\n",
       "      <td>[Tool]</td>\n",
       "      <td>0      860\n",
       "1      890\n",
       "2      852\n",
       "3      889\n",
       "4 ...</td>\n",
       "      <td>0      730.002509\n",
       "1     1038.940918\n",
       "2      867...</td>\n",
       "      <td>Intercept  Tool\n",
       "0           1  18.3\n",
       "1     ...</td>\n",
       "      <td>&lt;statsmodels.regression.linear_model.OLS objec...</td>\n",
       "      <td>&lt;statsmodels.regression.linear_model.Regressio...</td>\n",
       "      <td>0.740495</td>\n",
       "      <td>1.049881e-08</td>\n",
       "      <td>731396.866677</td>\n",
       "      <td>10110.920619</td>\n",
       "      <td>100.553074</td>\n",
       "      <td>38962.358462</td>\n",
       "      <td>315.459349</td>\n",
       "      <td>317.975542</td>\n",
       "      <td>Intercept    53.284459\n",
       "Tool          4.484414\n",
       "...</td>\n",
       "      <td>Intercept    56.768776\n",
       "Tool          4.300580\n",
       "...</td>\n",
       "      <td>32.302487</td>\n",
       "    </tr>\n",
       "    <tr>\n",
       "      <td>Model 1</td>\n",
       "      <td>[ln_Tool]</td>\n",
       "      <td>0      860\n",
       "1      890\n",
       "2      852\n",
       "3      889\n",
       "4 ...</td>\n",
       "      <td>0      769.849544\n",
       "1     1002.713230\n",
       "2      857...</td>\n",
       "      <td>Intercept   ln_Tool\n",
       "0           1  2.90690...</td>\n",
       "      <td>&lt;statsmodels.regression.linear_model.OLS objec...</td>\n",
       "      <td>&lt;statsmodels.regression.linear_model.Regressio...</td>\n",
       "      <td>0.816475</td>\n",
       "      <td>1.575779e-10</td>\n",
       "      <td>802445.085598</td>\n",
       "      <td>7150.578164</td>\n",
       "      <td>84.561091</td>\n",
       "      <td>38962.358462</td>\n",
       "      <td>306.452354</td>\n",
       "      <td>308.968547</td>\n",
       "      <td>Intercept    88.504913\n",
       "ln_Tool      37.607136\n",
       "...</td>\n",
       "      <td>Intercept    67.015309\n",
       "ln_Tool      28.045214\n",
       "...</td>\n",
       "      <td>14.759690</td>\n",
       "    </tr>\n",
       "    <tr>\n",
       "      <td>Model 2</td>\n",
       "      <td>[ln_Tool, Age, inv_Maintenance]</td>\n",
       "      <td>0      860\n",
       "1      890\n",
       "2      852\n",
       "3      889\n",
       "4 ...</td>\n",
       "      <td>0      770.453308\n",
       "1      916.830718\n",
       "2      873...</td>\n",
       "      <td>Intercept   ln_Tool   Age  inv_Maintenance...</td>\n",
       "      <td>&lt;statsmodels.regression.linear_model.OLS objec...</td>\n",
       "      <td>&lt;statsmodels.regression.linear_model.Regressio...</td>\n",
       "      <td>0.872729</td>\n",
       "      <td>1.274516e-10</td>\n",
       "      <td>288321.820256</td>\n",
       "      <td>4958.795490</td>\n",
       "      <td>70.418715</td>\n",
       "      <td>38962.358462</td>\n",
       "      <td>298.673269</td>\n",
       "      <td>303.705655</td>\n",
       "      <td>Intercept           243.640042\n",
       "ln_Tool        ...</td>\n",
       "      <td>Intercept           185.697375\n",
       "ln_Tool        ...</td>\n",
       "      <td>1907.588713</td>\n",
       "    </tr>\n",
       "    <tr>\n",
       "      <td>Model 3</td>\n",
       "      <td>[ln_Tool, Age, Maintenance]</td>\n",
       "      <td>0      860\n",
       "1      890\n",
       "2      852\n",
       "3      889\n",
       "4 ...</td>\n",
       "      <td>0      766.010901\n",
       "1      913.754101\n",
       "2      876...</td>\n",
       "      <td>Intercept   ln_Tool   Age  Maintenance\n",
       "0  ...</td>\n",
       "      <td>&lt;statsmodels.regression.linear_model.OLS objec...</td>\n",
       "      <td>&lt;statsmodels.regression.linear_model.Regressio...</td>\n",
       "      <td>0.871411</td>\n",
       "      <td>1.426522e-10</td>\n",
       "      <td>287945.446343</td>\n",
       "      <td>5010.119205</td>\n",
       "      <td>70.782196</td>\n",
       "      <td>38962.358462</td>\n",
       "      <td>298.940987</td>\n",
       "      <td>303.973373</td>\n",
       "      <td>Intercept      143.083901\n",
       "ln_Tool         54.1...</td>\n",
       "      <td>Intercept      88.680337\n",
       "ln_Tool        36.436...</td>\n",
       "      <td>263.378366</td>\n",
       "    </tr>\n",
       "    <tr>\n",
       "      <td>Model 4</td>\n",
       "      <td>[ln_Tool, Age]</td>\n",
       "      <td>0      860\n",
       "1      890\n",
       "2      852\n",
       "3      889\n",
       "4 ...</td>\n",
       "      <td>0      765.249973\n",
       "1      965.413221\n",
       "2      823...</td>\n",
       "      <td>Intercept   ln_Tool   Age\n",
       "0           1  2...</td>\n",
       "      <td>&lt;statsmodels.regression.linear_model.OLS objec...</td>\n",
       "      <td>&lt;statsmodels.regression.linear_model.Regressio...</td>\n",
       "      <td>0.851205</td>\n",
       "      <td>1.170345e-10</td>\n",
       "      <td>420359.495476</td>\n",
       "      <td>5797.390026</td>\n",
       "      <td>76.140594</td>\n",
       "      <td>38962.358462</td>\n",
       "      <td>301.891384</td>\n",
       "      <td>305.665674</td>\n",
       "      <td>Intercept    147.888148\n",
       "ln_Tool       45.94256...</td>\n",
       "      <td>Intercept    92.813255\n",
       "ln_Tool      27.709463\n",
       "...</td>\n",
       "      <td>110.393154</td>\n",
       "    </tr>\n",
       "  </tbody>\n",
       "</table>\n",
       "</div>"
      ],
      "text/plain": [
       "                                features  \\\n",
       "Model 0                           [Tool]   \n",
       "Model 1                        [ln_Tool]   \n",
       "Model 2  [ln_Tool, Age, inv_Maintenance]   \n",
       "Model 3      [ln_Tool, Age, Maintenance]   \n",
       "Model 4                   [ln_Tool, Age]   \n",
       "\n",
       "                                                         y  \\\n",
       "Model 0  0      860\n",
       "1      890\n",
       "2      852\n",
       "3      889\n",
       "4 ...   \n",
       "Model 1  0      860\n",
       "1      890\n",
       "2      852\n",
       "3      889\n",
       "4 ...   \n",
       "Model 2  0      860\n",
       "1      890\n",
       "2      852\n",
       "3      889\n",
       "4 ...   \n",
       "Model 3  0      860\n",
       "1      890\n",
       "2      852\n",
       "3      889\n",
       "4 ...   \n",
       "Model 4  0      860\n",
       "1      890\n",
       "2      852\n",
       "3      889\n",
       "4 ...   \n",
       "\n",
       "                                                    y_pred  \\\n",
       "Model 0  0      730.002509\n",
       "1     1038.940918\n",
       "2      867...   \n",
       "Model 1  0      769.849544\n",
       "1     1002.713230\n",
       "2      857...   \n",
       "Model 2  0      770.453308\n",
       "1      916.830718\n",
       "2      873...   \n",
       "Model 3  0      766.010901\n",
       "1      913.754101\n",
       "2      876...   \n",
       "Model 4  0      765.249973\n",
       "1      965.413221\n",
       "2      823...   \n",
       "\n",
       "                                                         X  \\\n",
       "Model 0      Intercept  Tool\n",
       "0           1  18.3\n",
       "1     ...   \n",
       "Model 1      Intercept   ln_Tool\n",
       "0           1  2.90690...   \n",
       "Model 2      Intercept   ln_Tool   Age  inv_Maintenance...   \n",
       "Model 3      Intercept   ln_Tool   Age  Maintenance\n",
       "0  ...   \n",
       "Model 4      Intercept   ln_Tool   Age\n",
       "0           1  2...   \n",
       "\n",
       "                                                     model  \\\n",
       "Model 0  <statsmodels.regression.linear_model.OLS objec...   \n",
       "Model 1  <statsmodels.regression.linear_model.OLS objec...   \n",
       "Model 2  <statsmodels.regression.linear_model.OLS objec...   \n",
       "Model 3  <statsmodels.regression.linear_model.OLS objec...   \n",
       "Model 4  <statsmodels.regression.linear_model.OLS objec...   \n",
       "\n",
       "                                                   results  Adj R-squared  \\\n",
       "Model 0  <statsmodels.regression.linear_model.Regressio...       0.740495   \n",
       "Model 1  <statsmodels.regression.linear_model.Regressio...       0.816475   \n",
       "Model 2  <statsmodels.regression.linear_model.Regressio...       0.872729   \n",
       "Model 3  <statsmodels.regression.linear_model.Regressio...       0.871411   \n",
       "Model 4  <statsmodels.regression.linear_model.Regressio...       0.851205   \n",
       "\n",
       "         Prob (F-statistic)      MSE Model  MSE Residuals  RMSE Residuals  \\\n",
       "Model 0        1.049881e-08  731396.866677   10110.920619      100.553074   \n",
       "Model 1        1.575779e-10  802445.085598    7150.578164       84.561091   \n",
       "Model 2        1.274516e-10  288321.820256    4958.795490       70.418715   \n",
       "Model 3        1.426522e-10  287945.446343    5010.119205       70.782196   \n",
       "Model 4        1.170345e-10  420359.495476    5797.390026       76.140594   \n",
       "\n",
       "            MSE Total         AIC         BIC  \\\n",
       "Model 0  38962.358462  315.459349  317.975542   \n",
       "Model 1  38962.358462  306.452354  308.968547   \n",
       "Model 2  38962.358462  298.673269  303.705655   \n",
       "Model 3  38962.358462  298.940987  303.973373   \n",
       "Model 4  38962.358462  301.891384  305.665674   \n",
       "\n",
       "                                                       BSE  \\\n",
       "Model 0  Intercept    53.284459\n",
       "Tool          4.484414\n",
       "...   \n",
       "Model 1  Intercept    88.504913\n",
       "ln_Tool      37.607136\n",
       "...   \n",
       "Model 2  Intercept           243.640042\n",
       "ln_Tool        ...   \n",
       "Model 3  Intercept      143.083901\n",
       "ln_Tool         54.1...   \n",
       "Model 4  Intercept    147.888148\n",
       "ln_Tool       45.94256...   \n",
       "\n",
       "                                                    HC0_se  Condition Number  \n",
       "Model 0  Intercept    56.768776\n",
       "Tool          4.300580\n",
       "...         32.302487  \n",
       "Model 1  Intercept    67.015309\n",
       "ln_Tool      28.045214\n",
       "...         14.759690  \n",
       "Model 2  Intercept           185.697375\n",
       "ln_Tool        ...       1907.588713  \n",
       "Model 3  Intercept      88.680337\n",
       "ln_Tool        36.436...        263.378366  \n",
       "Model 4  Intercept    92.813255\n",
       "ln_Tool      27.709463\n",
       "...        110.393154  "
      ]
     },
     "execution_count": 83,
     "metadata": {},
     "output_type": "execute_result"
    }
   ],
   "source": [
    "models"
   ]
  },
  {
   "cell_type": "code",
   "execution_count": 84,
   "metadata": {
    "scrolled": true
   },
   "outputs": [
    {
     "name": "stdout",
     "output_type": "stream",
     "text": [
      "Model Model 0\n",
      "Features: Tool\n"
     ]
    },
    {
     "data": {
      "text/html": [
       "<table class=\"simpletable\">\n",
       "<caption>OLS Regression Results</caption>\n",
       "<tr>\n",
       "  <th>Dep. Variable:</th>         <td>Defects</td>     <th>  R-squared:         </th> <td>   0.751</td>\n",
       "</tr>\n",
       "<tr>\n",
       "  <th>Model:</th>                   <td>OLS</td>       <th>  Adj. R-squared:    </th> <td>   0.740</td>\n",
       "</tr>\n",
       "<tr>\n",
       "  <th>Method:</th>             <td>Least Squares</td>  <th>  F-statistic:       </th> <td>   72.34</td>\n",
       "</tr>\n",
       "<tr>\n",
       "  <th>Date:</th>             <td>Wed, 22 Apr 2020</td> <th>  Prob (F-statistic):</th> <td>1.05e-08</td>\n",
       "</tr>\n",
       "<tr>\n",
       "  <th>Time:</th>                 <td>14:25:53</td>     <th>  Log-Likelihood:    </th> <td> -155.73</td>\n",
       "</tr>\n",
       "<tr>\n",
       "  <th>No. Observations:</th>      <td>    26</td>      <th>  AIC:               </th> <td>   315.5</td>\n",
       "</tr>\n",
       "<tr>\n",
       "  <th>Df Residuals:</th>          <td>    24</td>      <th>  BIC:               </th> <td>   318.0</td>\n",
       "</tr>\n",
       "<tr>\n",
       "  <th>Df Model:</th>              <td>     1</td>      <th>                     </th>     <td> </td>   \n",
       "</tr>\n",
       "<tr>\n",
       "  <th>Covariance Type:</th>      <td>nonrobust</td>    <th>                     </th>     <td> </td>   \n",
       "</tr>\n",
       "</table>\n",
       "<table class=\"simpletable\">\n",
       "<tr>\n",
       "      <td></td>         <th>coef</th>     <th>std err</th>      <th>t</th>      <th>P>|t|</th>  <th>[0.025</th>    <th>0.975]</th>  \n",
       "</tr>\n",
       "<tr>\n",
       "  <th>Intercept</th> <td> 1427.9745</td> <td>   53.284</td> <td>   26.799</td> <td> 0.000</td> <td> 1318.001</td> <td> 1537.948</td>\n",
       "</tr>\n",
       "<tr>\n",
       "  <th>Tool</th>      <td>  -38.1405</td> <td>    4.484</td> <td>   -8.505</td> <td> 0.000</td> <td>  -47.396</td> <td>  -28.885</td>\n",
       "</tr>\n",
       "</table>\n",
       "<table class=\"simpletable\">\n",
       "<tr>\n",
       "  <th>Omnibus:</th>       <td> 4.268</td> <th>  Durbin-Watson:     </th> <td>   2.265</td>\n",
       "</tr>\n",
       "<tr>\n",
       "  <th>Prob(Omnibus):</th> <td> 0.118</td> <th>  Jarque-Bera (JB):  </th> <td>   1.630</td>\n",
       "</tr>\n",
       "<tr>\n",
       "  <th>Skew:</th>          <td> 0.150</td> <th>  Prob(JB):          </th> <td>   0.443</td>\n",
       "</tr>\n",
       "<tr>\n",
       "  <th>Kurtosis:</th>      <td> 1.811</td> <th>  Cond. No.          </th> <td>    32.3</td>\n",
       "</tr>\n",
       "</table><br/><br/>Warnings:<br/>[1] Standard Errors assume that the covariance matrix of the errors is correctly specified."
      ],
      "text/plain": [
       "<class 'statsmodels.iolib.summary.Summary'>\n",
       "\"\"\"\n",
       "                            OLS Regression Results                            \n",
       "==============================================================================\n",
       "Dep. Variable:                Defects   R-squared:                       0.751\n",
       "Model:                            OLS   Adj. R-squared:                  0.740\n",
       "Method:                 Least Squares   F-statistic:                     72.34\n",
       "Date:                Wed, 22 Apr 2020   Prob (F-statistic):           1.05e-08\n",
       "Time:                        14:25:53   Log-Likelihood:                -155.73\n",
       "No. Observations:                  26   AIC:                             315.5\n",
       "Df Residuals:                      24   BIC:                             318.0\n",
       "Df Model:                           1                                         \n",
       "Covariance Type:            nonrobust                                         \n",
       "==============================================================================\n",
       "                 coef    std err          t      P>|t|      [0.025      0.975]\n",
       "------------------------------------------------------------------------------\n",
       "Intercept   1427.9745     53.284     26.799      0.000    1318.001    1537.948\n",
       "Tool         -38.1405      4.484     -8.505      0.000     -47.396     -28.885\n",
       "==============================================================================\n",
       "Omnibus:                        4.268   Durbin-Watson:                   2.265\n",
       "Prob(Omnibus):                  0.118   Jarque-Bera (JB):                1.630\n",
       "Skew:                           0.150   Prob(JB):                        0.443\n",
       "Kurtosis:                       1.811   Cond. No.                         32.3\n",
       "==============================================================================\n",
       "\n",
       "Warnings:\n",
       "[1] Standard Errors assume that the covariance matrix of the errors is correctly specified.\n",
       "\"\"\""
      ]
     },
     "metadata": {},
     "output_type": "display_data"
    },
    {
     "name": "stdout",
     "output_type": "stream",
     "text": [
      "Model Model 1\n",
      "Features: ln_Tool\n"
     ]
    },
    {
     "data": {
      "text/html": [
       "<table class=\"simpletable\">\n",
       "<caption>OLS Regression Results</caption>\n",
       "<tr>\n",
       "  <th>Dep. Variable:</th>         <td>Defects</td>     <th>  R-squared:         </th> <td>   0.824</td>\n",
       "</tr>\n",
       "<tr>\n",
       "  <th>Model:</th>                   <td>OLS</td>       <th>  Adj. R-squared:    </th> <td>   0.816</td>\n",
       "</tr>\n",
       "<tr>\n",
       "  <th>Method:</th>             <td>Least Squares</td>  <th>  F-statistic:       </th> <td>   112.2</td>\n",
       "</tr>\n",
       "<tr>\n",
       "  <th>Date:</th>             <td>Wed, 22 Apr 2020</td> <th>  Prob (F-statistic):</th> <td>1.58e-10</td>\n",
       "</tr>\n",
       "<tr>\n",
       "  <th>Time:</th>                 <td>14:25:53</td>     <th>  Log-Likelihood:    </th> <td> -151.23</td>\n",
       "</tr>\n",
       "<tr>\n",
       "  <th>No. Observations:</th>      <td>    26</td>      <th>  AIC:               </th> <td>   306.5</td>\n",
       "</tr>\n",
       "<tr>\n",
       "  <th>Df Residuals:</th>          <td>    24</td>      <th>  BIC:               </th> <td>   309.0</td>\n",
       "</tr>\n",
       "<tr>\n",
       "  <th>Df Model:</th>              <td>     1</td>      <th>                     </th>     <td> </td>   \n",
       "</tr>\n",
       "<tr>\n",
       "  <th>Covariance Type:</th>      <td>nonrobust</td>    <th>                     </th>     <td> </td>   \n",
       "</tr>\n",
       "</table>\n",
       "<table class=\"simpletable\">\n",
       "<tr>\n",
       "      <td></td>         <th>coef</th>     <th>std err</th>      <th>t</th>      <th>P>|t|</th>  <th>[0.025</th>    <th>0.975]</th>  \n",
       "</tr>\n",
       "<tr>\n",
       "  <th>Intercept</th> <td> 1927.9270</td> <td>   88.505</td> <td>   21.783</td> <td> 0.000</td> <td> 1745.262</td> <td> 2110.592</td>\n",
       "</tr>\n",
       "<tr>\n",
       "  <th>ln_Tool</th>   <td> -398.3890</td> <td>   37.607</td> <td>  -10.593</td> <td> 0.000</td> <td> -476.006</td> <td> -320.772</td>\n",
       "</tr>\n",
       "</table>\n",
       "<table class=\"simpletable\">\n",
       "<tr>\n",
       "  <th>Omnibus:</th>       <td> 1.884</td> <th>  Durbin-Watson:     </th> <td>   2.312</td>\n",
       "</tr>\n",
       "<tr>\n",
       "  <th>Prob(Omnibus):</th> <td> 0.390</td> <th>  Jarque-Bera (JB):  </th> <td>   1.556</td>\n",
       "</tr>\n",
       "<tr>\n",
       "  <th>Skew:</th>          <td> 0.452</td> <th>  Prob(JB):          </th> <td>   0.459</td>\n",
       "</tr>\n",
       "<tr>\n",
       "  <th>Kurtosis:</th>      <td> 2.213</td> <th>  Cond. No.          </th> <td>    14.8</td>\n",
       "</tr>\n",
       "</table><br/><br/>Warnings:<br/>[1] Standard Errors assume that the covariance matrix of the errors is correctly specified."
      ],
      "text/plain": [
       "<class 'statsmodels.iolib.summary.Summary'>\n",
       "\"\"\"\n",
       "                            OLS Regression Results                            \n",
       "==============================================================================\n",
       "Dep. Variable:                Defects   R-squared:                       0.824\n",
       "Model:                            OLS   Adj. R-squared:                  0.816\n",
       "Method:                 Least Squares   F-statistic:                     112.2\n",
       "Date:                Wed, 22 Apr 2020   Prob (F-statistic):           1.58e-10\n",
       "Time:                        14:25:53   Log-Likelihood:                -151.23\n",
       "No. Observations:                  26   AIC:                             306.5\n",
       "Df Residuals:                      24   BIC:                             309.0\n",
       "Df Model:                           1                                         \n",
       "Covariance Type:            nonrobust                                         \n",
       "==============================================================================\n",
       "                 coef    std err          t      P>|t|      [0.025      0.975]\n",
       "------------------------------------------------------------------------------\n",
       "Intercept   1927.9270     88.505     21.783      0.000    1745.262    2110.592\n",
       "ln_Tool     -398.3890     37.607    -10.593      0.000    -476.006    -320.772\n",
       "==============================================================================\n",
       "Omnibus:                        1.884   Durbin-Watson:                   2.312\n",
       "Prob(Omnibus):                  0.390   Jarque-Bera (JB):                1.556\n",
       "Skew:                           0.452   Prob(JB):                        0.459\n",
       "Kurtosis:                       2.213   Cond. No.                         14.8\n",
       "==============================================================================\n",
       "\n",
       "Warnings:\n",
       "[1] Standard Errors assume that the covariance matrix of the errors is correctly specified.\n",
       "\"\"\""
      ]
     },
     "metadata": {},
     "output_type": "display_data"
    },
    {
     "name": "stdout",
     "output_type": "stream",
     "text": [
      "Model Model 2\n",
      "Features: ln_Tool, Age, inv_Maintenance\n"
     ]
    },
    {
     "data": {
      "text/html": [
       "<table class=\"simpletable\">\n",
       "<caption>OLS Regression Results</caption>\n",
       "<tr>\n",
       "  <th>Dep. Variable:</th>         <td>Defects</td>     <th>  R-squared:         </th> <td>   0.888</td>\n",
       "</tr>\n",
       "<tr>\n",
       "  <th>Model:</th>                   <td>OLS</td>       <th>  Adj. R-squared:    </th> <td>   0.873</td>\n",
       "</tr>\n",
       "<tr>\n",
       "  <th>Method:</th>             <td>Least Squares</td>  <th>  F-statistic:       </th> <td>   58.14</td>\n",
       "</tr>\n",
       "<tr>\n",
       "  <th>Date:</th>             <td>Wed, 22 Apr 2020</td> <th>  Prob (F-statistic):</th> <td>1.27e-10</td>\n",
       "</tr>\n",
       "<tr>\n",
       "  <th>Time:</th>                 <td>14:25:53</td>     <th>  Log-Likelihood:    </th> <td> -145.34</td>\n",
       "</tr>\n",
       "<tr>\n",
       "  <th>No. Observations:</th>      <td>    26</td>      <th>  AIC:               </th> <td>   298.7</td>\n",
       "</tr>\n",
       "<tr>\n",
       "  <th>Df Residuals:</th>          <td>    22</td>      <th>  BIC:               </th> <td>   303.7</td>\n",
       "</tr>\n",
       "<tr>\n",
       "  <th>Df Model:</th>              <td>     3</td>      <th>                     </th>     <td> </td>   \n",
       "</tr>\n",
       "<tr>\n",
       "  <th>Covariance Type:</th>      <td>nonrobust</td>    <th>                     </th>     <td> </td>   \n",
       "</tr>\n",
       "</table>\n",
       "<table class=\"simpletable\">\n",
       "<tr>\n",
       "         <td></td>            <th>coef</th>     <th>std err</th>      <th>t</th>      <th>P>|t|</th>  <th>[0.025</th>    <th>0.975]</th>  \n",
       "</tr>\n",
       "<tr>\n",
       "  <th>Intercept</th>       <td> 1161.9844</td> <td>  243.640</td> <td>    4.769</td> <td> 0.000</td> <td>  656.706</td> <td> 1667.263</td>\n",
       "</tr>\n",
       "<tr>\n",
       "  <th>ln_Tool</th>         <td> -237.8310</td> <td>   56.035</td> <td>   -4.244</td> <td> 0.000</td> <td> -354.040</td> <td> -121.622</td>\n",
       "</tr>\n",
       "<tr>\n",
       "  <th>Age</th>             <td>   15.1089</td> <td>    5.043</td> <td>    2.996</td> <td> 0.007</td> <td>    4.651</td> <td>   25.567</td>\n",
       "</tr>\n",
       "<tr>\n",
       "  <th>inv_Maintenance</th> <td> 5438.3328</td> <td> 2459.403</td> <td>    2.211</td> <td> 0.038</td> <td>  337.844</td> <td> 1.05e+04</td>\n",
       "</tr>\n",
       "</table>\n",
       "<table class=\"simpletable\">\n",
       "<tr>\n",
       "  <th>Omnibus:</th>       <td> 5.815</td> <th>  Durbin-Watson:     </th> <td>   2.152</td>\n",
       "</tr>\n",
       "<tr>\n",
       "  <th>Prob(Omnibus):</th> <td> 0.055</td> <th>  Jarque-Bera (JB):  </th> <td>   4.381</td>\n",
       "</tr>\n",
       "<tr>\n",
       "  <th>Skew:</th>          <td> 0.994</td> <th>  Prob(JB):          </th> <td>   0.112</td>\n",
       "</tr>\n",
       "<tr>\n",
       "  <th>Kurtosis:</th>      <td> 3.305</td> <th>  Cond. No.          </th> <td>1.91e+03</td>\n",
       "</tr>\n",
       "</table><br/><br/>Warnings:<br/>[1] Standard Errors assume that the covariance matrix of the errors is correctly specified.<br/>[2] The condition number is large, 1.91e+03. This might indicate that there are<br/>strong multicollinearity or other numerical problems."
      ],
      "text/plain": [
       "<class 'statsmodels.iolib.summary.Summary'>\n",
       "\"\"\"\n",
       "                            OLS Regression Results                            \n",
       "==============================================================================\n",
       "Dep. Variable:                Defects   R-squared:                       0.888\n",
       "Model:                            OLS   Adj. R-squared:                  0.873\n",
       "Method:                 Least Squares   F-statistic:                     58.14\n",
       "Date:                Wed, 22 Apr 2020   Prob (F-statistic):           1.27e-10\n",
       "Time:                        14:25:53   Log-Likelihood:                -145.34\n",
       "No. Observations:                  26   AIC:                             298.7\n",
       "Df Residuals:                      22   BIC:                             303.7\n",
       "Df Model:                           3                                         \n",
       "Covariance Type:            nonrobust                                         \n",
       "===================================================================================\n",
       "                      coef    std err          t      P>|t|      [0.025      0.975]\n",
       "-----------------------------------------------------------------------------------\n",
       "Intercept        1161.9844    243.640      4.769      0.000     656.706    1667.263\n",
       "ln_Tool          -237.8310     56.035     -4.244      0.000    -354.040    -121.622\n",
       "Age                15.1089      5.043      2.996      0.007       4.651      25.567\n",
       "inv_Maintenance  5438.3328   2459.403      2.211      0.038     337.844    1.05e+04\n",
       "==============================================================================\n",
       "Omnibus:                        5.815   Durbin-Watson:                   2.152\n",
       "Prob(Omnibus):                  0.055   Jarque-Bera (JB):                4.381\n",
       "Skew:                           0.994   Prob(JB):                        0.112\n",
       "Kurtosis:                       3.305   Cond. No.                     1.91e+03\n",
       "==============================================================================\n",
       "\n",
       "Warnings:\n",
       "[1] Standard Errors assume that the covariance matrix of the errors is correctly specified.\n",
       "[2] The condition number is large, 1.91e+03. This might indicate that there are\n",
       "strong multicollinearity or other numerical problems.\n",
       "\"\"\""
      ]
     },
     "metadata": {},
     "output_type": "display_data"
    },
    {
     "name": "stdout",
     "output_type": "stream",
     "text": [
      "Model Model 3\n",
      "Features: ln_Tool, Age, Maintenance\n"
     ]
    },
    {
     "data": {
      "text/html": [
       "<table class=\"simpletable\">\n",
       "<caption>OLS Regression Results</caption>\n",
       "<tr>\n",
       "  <th>Dep. Variable:</th>         <td>Defects</td>     <th>  R-squared:         </th> <td>   0.887</td>\n",
       "</tr>\n",
       "<tr>\n",
       "  <th>Model:</th>                   <td>OLS</td>       <th>  Adj. R-squared:    </th> <td>   0.871</td>\n",
       "</tr>\n",
       "<tr>\n",
       "  <th>Method:</th>             <td>Least Squares</td>  <th>  F-statistic:       </th> <td>   57.47</td>\n",
       "</tr>\n",
       "<tr>\n",
       "  <th>Date:</th>             <td>Wed, 22 Apr 2020</td> <th>  Prob (F-statistic):</th> <td>1.43e-10</td>\n",
       "</tr>\n",
       "<tr>\n",
       "  <th>Time:</th>                 <td>14:25:53</td>     <th>  Log-Likelihood:    </th> <td> -145.47</td>\n",
       "</tr>\n",
       "<tr>\n",
       "  <th>No. Observations:</th>      <td>    26</td>      <th>  AIC:               </th> <td>   298.9</td>\n",
       "</tr>\n",
       "<tr>\n",
       "  <th>Df Residuals:</th>          <td>    22</td>      <th>  BIC:               </th> <td>   304.0</td>\n",
       "</tr>\n",
       "<tr>\n",
       "  <th>Df Model:</th>              <td>     3</td>      <th>                     </th>     <td> </td>   \n",
       "</tr>\n",
       "<tr>\n",
       "  <th>Covariance Type:</th>      <td>nonrobust</td>    <th>                     </th>     <td> </td>   \n",
       "</tr>\n",
       "</table>\n",
       "<table class=\"simpletable\">\n",
       "<tr>\n",
       "       <td></td>          <th>coef</th>     <th>std err</th>      <th>t</th>      <th>P>|t|</th>  <th>[0.025</th>    <th>0.975]</th>  \n",
       "</tr>\n",
       "<tr>\n",
       "  <th>Intercept</th>   <td> 1692.9990</td> <td>  143.084</td> <td>   11.832</td> <td> 0.000</td> <td> 1396.261</td> <td> 1989.737</td>\n",
       "</tr>\n",
       "<tr>\n",
       "  <th>ln_Tool</th>     <td> -247.0720</td> <td>   54.159</td> <td>   -4.562</td> <td> 0.000</td> <td> -359.391</td> <td> -134.753</td>\n",
       "</tr>\n",
       "<tr>\n",
       "  <th>Age</th>         <td>   14.7629</td> <td>    5.055</td> <td>    2.920</td> <td> 0.008</td> <td>    4.279</td> <td>   25.247</td>\n",
       "</tr>\n",
       "<tr>\n",
       "  <th>Maintenance</th> <td>  -11.4366</td> <td>    5.324</td> <td>   -2.148</td> <td> 0.043</td> <td>  -22.478</td> <td>   -0.395</td>\n",
       "</tr>\n",
       "</table>\n",
       "<table class=\"simpletable\">\n",
       "<tr>\n",
       "  <th>Omnibus:</th>       <td> 5.221</td> <th>  Durbin-Watson:     </th> <td>   2.178</td>\n",
       "</tr>\n",
       "<tr>\n",
       "  <th>Prob(Omnibus):</th> <td> 0.074</td> <th>  Jarque-Bera (JB):  </th> <td>   3.898</td>\n",
       "</tr>\n",
       "<tr>\n",
       "  <th>Skew:</th>          <td> 0.942</td> <th>  Prob(JB):          </th> <td>   0.142</td>\n",
       "</tr>\n",
       "<tr>\n",
       "  <th>Kurtosis:</th>      <td> 3.221</td> <th>  Cond. No.          </th> <td>    263.</td>\n",
       "</tr>\n",
       "</table><br/><br/>Warnings:<br/>[1] Standard Errors assume that the covariance matrix of the errors is correctly specified."
      ],
      "text/plain": [
       "<class 'statsmodels.iolib.summary.Summary'>\n",
       "\"\"\"\n",
       "                            OLS Regression Results                            \n",
       "==============================================================================\n",
       "Dep. Variable:                Defects   R-squared:                       0.887\n",
       "Model:                            OLS   Adj. R-squared:                  0.871\n",
       "Method:                 Least Squares   F-statistic:                     57.47\n",
       "Date:                Wed, 22 Apr 2020   Prob (F-statistic):           1.43e-10\n",
       "Time:                        14:25:53   Log-Likelihood:                -145.47\n",
       "No. Observations:                  26   AIC:                             298.9\n",
       "Df Residuals:                      22   BIC:                             304.0\n",
       "Df Model:                           3                                         \n",
       "Covariance Type:            nonrobust                                         \n",
       "===============================================================================\n",
       "                  coef    std err          t      P>|t|      [0.025      0.975]\n",
       "-------------------------------------------------------------------------------\n",
       "Intercept    1692.9990    143.084     11.832      0.000    1396.261    1989.737\n",
       "ln_Tool      -247.0720     54.159     -4.562      0.000    -359.391    -134.753\n",
       "Age            14.7629      5.055      2.920      0.008       4.279      25.247\n",
       "Maintenance   -11.4366      5.324     -2.148      0.043     -22.478      -0.395\n",
       "==============================================================================\n",
       "Omnibus:                        5.221   Durbin-Watson:                   2.178\n",
       "Prob(Omnibus):                  0.074   Jarque-Bera (JB):                3.898\n",
       "Skew:                           0.942   Prob(JB):                        0.142\n",
       "Kurtosis:                       3.221   Cond. No.                         263.\n",
       "==============================================================================\n",
       "\n",
       "Warnings:\n",
       "[1] Standard Errors assume that the covariance matrix of the errors is correctly specified.\n",
       "\"\"\""
      ]
     },
     "metadata": {},
     "output_type": "display_data"
    },
    {
     "name": "stdout",
     "output_type": "stream",
     "text": [
      "Model Model 4\n",
      "Features: ln_Tool, Age\n"
     ]
    },
    {
     "data": {
      "text/html": [
       "<table class=\"simpletable\">\n",
       "<caption>OLS Regression Results</caption>\n",
       "<tr>\n",
       "  <th>Dep. Variable:</th>         <td>Defects</td>     <th>  R-squared:         </th> <td>   0.863</td>\n",
       "</tr>\n",
       "<tr>\n",
       "  <th>Model:</th>                   <td>OLS</td>       <th>  Adj. R-squared:    </th> <td>   0.851</td>\n",
       "</tr>\n",
       "<tr>\n",
       "  <th>Method:</th>             <td>Least Squares</td>  <th>  F-statistic:       </th> <td>   72.51</td>\n",
       "</tr>\n",
       "<tr>\n",
       "  <th>Date:</th>             <td>Wed, 22 Apr 2020</td> <th>  Prob (F-statistic):</th> <td>1.17e-10</td>\n",
       "</tr>\n",
       "<tr>\n",
       "  <th>Time:</th>                 <td>14:25:53</td>     <th>  Log-Likelihood:    </th> <td> -147.95</td>\n",
       "</tr>\n",
       "<tr>\n",
       "  <th>No. Observations:</th>      <td>    26</td>      <th>  AIC:               </th> <td>   301.9</td>\n",
       "</tr>\n",
       "<tr>\n",
       "  <th>Df Residuals:</th>          <td>    23</td>      <th>  BIC:               </th> <td>   305.7</td>\n",
       "</tr>\n",
       "<tr>\n",
       "  <th>Df Model:</th>              <td>     2</td>      <th>                     </th>     <td> </td>   \n",
       "</tr>\n",
       "<tr>\n",
       "  <th>Covariance Type:</th>      <td>nonrobust</td>    <th>                     </th>     <td> </td>   \n",
       "</tr>\n",
       "</table>\n",
       "<table class=\"simpletable\">\n",
       "<tr>\n",
       "      <td></td>         <th>coef</th>     <th>std err</th>      <th>t</th>      <th>P>|t|</th>  <th>[0.025</th>    <th>0.975]</th>  \n",
       "</tr>\n",
       "<tr>\n",
       "  <th>Intercept</th> <td> 1607.8290</td> <td>  147.888</td> <td>   10.872</td> <td> 0.000</td> <td> 1301.899</td> <td> 1913.759</td>\n",
       "</tr>\n",
       "<tr>\n",
       "  <th>ln_Tool</th>   <td> -318.6100</td> <td>   45.943</td> <td>   -6.935</td> <td> 0.000</td> <td> -413.649</td> <td> -223.571</td>\n",
       "</tr>\n",
       "<tr>\n",
       "  <th>Age</th>       <td>   13.9315</td> <td>    5.422</td> <td>    2.569</td> <td> 0.017</td> <td>    2.715</td> <td>   25.148</td>\n",
       "</tr>\n",
       "</table>\n",
       "<table class=\"simpletable\">\n",
       "<tr>\n",
       "  <th>Omnibus:</th>       <td> 0.969</td> <th>  Durbin-Watson:     </th> <td>   2.538</td>\n",
       "</tr>\n",
       "<tr>\n",
       "  <th>Prob(Omnibus):</th> <td> 0.616</td> <th>  Jarque-Bera (JB):  </th> <td>   0.965</td>\n",
       "</tr>\n",
       "<tr>\n",
       "  <th>Skew:</th>          <td> 0.350</td> <th>  Prob(JB):          </th> <td>   0.617</td>\n",
       "</tr>\n",
       "<tr>\n",
       "  <th>Kurtosis:</th>      <td> 2.368</td> <th>  Cond. No.          </th> <td>    110.</td>\n",
       "</tr>\n",
       "</table><br/><br/>Warnings:<br/>[1] Standard Errors assume that the covariance matrix of the errors is correctly specified."
      ],
      "text/plain": [
       "<class 'statsmodels.iolib.summary.Summary'>\n",
       "\"\"\"\n",
       "                            OLS Regression Results                            \n",
       "==============================================================================\n",
       "Dep. Variable:                Defects   R-squared:                       0.863\n",
       "Model:                            OLS   Adj. R-squared:                  0.851\n",
       "Method:                 Least Squares   F-statistic:                     72.51\n",
       "Date:                Wed, 22 Apr 2020   Prob (F-statistic):           1.17e-10\n",
       "Time:                        14:25:53   Log-Likelihood:                -147.95\n",
       "No. Observations:                  26   AIC:                             301.9\n",
       "Df Residuals:                      23   BIC:                             305.7\n",
       "Df Model:                           2                                         \n",
       "Covariance Type:            nonrobust                                         \n",
       "==============================================================================\n",
       "                 coef    std err          t      P>|t|      [0.025      0.975]\n",
       "------------------------------------------------------------------------------\n",
       "Intercept   1607.8290    147.888     10.872      0.000    1301.899    1913.759\n",
       "ln_Tool     -318.6100     45.943     -6.935      0.000    -413.649    -223.571\n",
       "Age           13.9315      5.422      2.569      0.017       2.715      25.148\n",
       "==============================================================================\n",
       "Omnibus:                        0.969   Durbin-Watson:                   2.538\n",
       "Prob(Omnibus):                  0.616   Jarque-Bera (JB):                0.965\n",
       "Skew:                           0.350   Prob(JB):                        0.617\n",
       "Kurtosis:                       2.368   Cond. No.                         110.\n",
       "==============================================================================\n",
       "\n",
       "Warnings:\n",
       "[1] Standard Errors assume that the covariance matrix of the errors is correctly specified.\n",
       "\"\"\""
      ]
     },
     "metadata": {},
     "output_type": "display_data"
    }
   ],
   "source": [
    "from IPython.display import display\n",
    "for i, model in models.iterrows():\n",
    "    print(f'Model {i}\\nFeatures: ', end='')\n",
    "    print(*model['features'], sep=', ')\n",
    "    display(model['results'].summary())"
   ]
  },
  {
   "cell_type": "code",
   "execution_count": 85,
   "metadata": {},
   "outputs": [
    {
     "data": {
      "text/html": [
       "<div>\n",
       "<style scoped>\n",
       "    .dataframe tbody tr th:only-of-type {\n",
       "        vertical-align: middle;\n",
       "    }\n",
       "\n",
       "    .dataframe tbody tr th {\n",
       "        vertical-align: top;\n",
       "    }\n",
       "\n",
       "    .dataframe thead th {\n",
       "        text-align: right;\n",
       "    }\n",
       "</style>\n",
       "<table border=\"1\" class=\"dataframe\">\n",
       "  <thead>\n",
       "    <tr style=\"text-align: right;\">\n",
       "      <th></th>\n",
       "      <th>Model 0</th>\n",
       "      <th>Model 1</th>\n",
       "      <th>Model 2</th>\n",
       "      <th>Model 3</th>\n",
       "      <th>Model 4</th>\n",
       "    </tr>\n",
       "  </thead>\n",
       "  <tbody>\n",
       "    <tr>\n",
       "      <td>Age</td>\n",
       "      <td></td>\n",
       "      <td></td>\n",
       "      <td>2.99616</td>\n",
       "      <td>2.92029</td>\n",
       "      <td>2.56942</td>\n",
       "    </tr>\n",
       "    <tr>\n",
       "      <td>Intercept</td>\n",
       "      <td>26.7991</td>\n",
       "      <td>21.7833</td>\n",
       "      <td>4.76927</td>\n",
       "      <td>11.8322</td>\n",
       "      <td>10.8719</td>\n",
       "    </tr>\n",
       "    <tr>\n",
       "      <td>Maintenance</td>\n",
       "      <td></td>\n",
       "      <td></td>\n",
       "      <td></td>\n",
       "      <td>-2.14805</td>\n",
       "      <td></td>\n",
       "    </tr>\n",
       "    <tr>\n",
       "      <td>Tool</td>\n",
       "      <td>-8.50513</td>\n",
       "      <td></td>\n",
       "      <td></td>\n",
       "      <td></td>\n",
       "      <td></td>\n",
       "    </tr>\n",
       "    <tr>\n",
       "      <td>inv_Maintenance</td>\n",
       "      <td></td>\n",
       "      <td></td>\n",
       "      <td>2.21124</td>\n",
       "      <td></td>\n",
       "      <td></td>\n",
       "    </tr>\n",
       "    <tr>\n",
       "      <td>ln_Tool</td>\n",
       "      <td></td>\n",
       "      <td>-10.5934</td>\n",
       "      <td>-4.24433</td>\n",
       "      <td>-4.56196</td>\n",
       "      <td>-6.93496</td>\n",
       "    </tr>\n",
       "  </tbody>\n",
       "</table>\n",
       "</div>"
      ],
      "text/plain": [
       "                 Model 0  Model 1  Model 2  Model 3  Model 4\n",
       "Age                                2.99616  2.92029  2.56942\n",
       "Intercept        26.7991  21.7833  4.76927  11.8322  10.8719\n",
       "Maintenance                                -2.14805         \n",
       "Tool            -8.50513                                    \n",
       "inv_Maintenance                    2.21124                  \n",
       "ln_Tool                  -10.5934 -4.24433 -4.56196 -6.93496"
      ]
     },
     "execution_count": 85,
     "metadata": {},
     "output_type": "execute_result"
    }
   ],
   "source": [
    "tstats = {}\n",
    "for i, model in models.iterrows():\n",
    "    tstats[i] = model['results'].tvalues\n",
    "df_tstats = pd.DataFrame(tstats)\n",
    "df_tstats = df_tstats.replace(np.nan, '', regex=True)\n",
    "df_tstats"
   ]
  },
  {
   "cell_type": "code",
   "execution_count": 86,
   "metadata": {},
   "outputs": [
    {
     "data": {
      "text/html": [
       "<table class=\"simpletable\">\n",
       "<tr>\n",
       "         <td></td>          <th>Defects I</th> <th>Defects II</th> <th>Defects III</th> <th>Defects IIII</th> <th>Defects IIIII</th>\n",
       "</tr>\n",
       "<tr>\n",
       "  <th>Age</th>                  <td></td>           <td></td>       <td>15.11***</td>     <td>14.76***</td>      <td>13.93**</td>   \n",
       "</tr>\n",
       "<tr>\n",
       "  <th></th>                     <td></td>           <td></td>        <td>(5.04)</td>       <td>(5.06)</td>       <td>(5.42)</td>    \n",
       "</tr>\n",
       "<tr>\n",
       "  <th>Intercept</th>       <td>1427.97***</td> <td>1927.93***</td> <td>1161.98***</td>   <td>1693.00***</td>   <td>1607.83***</td>  \n",
       "</tr>\n",
       "<tr>\n",
       "  <th></th>                  <td>(53.28)</td>    <td>(88.50)</td>   <td>(243.64)</td>     <td>(143.08)</td>     <td>(147.89)</td>   \n",
       "</tr>\n",
       "<tr>\n",
       "  <th>Maintenance</th>          <td></td>           <td></td>           <td></td>         <td>-11.44**</td>         <td></td>       \n",
       "</tr>\n",
       "<tr>\n",
       "  <th></th>                     <td></td>           <td></td>           <td></td>          <td>(5.32)</td>          <td></td>       \n",
       "</tr>\n",
       "<tr>\n",
       "  <th>Tool</th>             <td>-38.14***</td>      <td></td>           <td></td>             <td></td>             <td></td>       \n",
       "</tr>\n",
       "<tr>\n",
       "  <th></th>                  <td>(4.48)</td>        <td></td>           <td></td>             <td></td>             <td></td>       \n",
       "</tr>\n",
       "<tr>\n",
       "  <th>inv_Maintenance</th>      <td></td>           <td></td>       <td>5438.33**</td>        <td></td>             <td></td>       \n",
       "</tr>\n",
       "<tr>\n",
       "  <th></th>                     <td></td>           <td></td>       <td>(2459.40)</td>        <td></td>             <td></td>       \n",
       "</tr>\n",
       "<tr>\n",
       "  <th>ln_Tool</th>              <td></td>      <td>-398.39***</td> <td>-237.83***</td>   <td>-247.07***</td>   <td>-318.61***</td>  \n",
       "</tr>\n",
       "<tr>\n",
       "  <th></th>                     <td></td>        <td>(37.61)</td>    <td>(56.03)</td>      <td>(54.16)</td>      <td>(45.94)</td>   \n",
       "</tr>\n",
       "<tr>\n",
       "  <th>Adj. R2</th>            <td>0.740</td>      <td>0.816</td>      <td>0.873</td>        <td>0.871</td>        <td>0.851</td>    \n",
       "</tr>\n",
       "<tr>\n",
       "  <th>Prob(F-stat)</th>     <td>1.05e-08</td>   <td>1.58e-10</td>   <td>1.27e-10</td>     <td>1.43e-10</td>     <td>1.17e-10</td>   \n",
       "</tr>\n",
       "<tr>\n",
       "  <th>MSE Residuals</th>     <td>10110.9</td>    <td>7150.6</td>     <td>4958.8</td>       <td>5010.1</td>       <td>5797.4</td>    \n",
       "</tr>\n",
       "<tr>\n",
       "  <th>RMSE Residuals</th>     <td>100.6</td>      <td>84.6</td>       <td>70.4</td>         <td>70.8</td>         <td>76.1</td>     \n",
       "</tr>\n",
       "<tr>\n",
       "  <th>Condition No.</th>      <td>32.3</td>       <td>14.8</td>      <td>1907.6</td>        <td>263.4</td>        <td>110.4</td>    \n",
       "</tr>\n",
       "</table>"
      ],
      "text/plain": [
       "<class 'statsmodels.iolib.summary2.Summary'>\n",
       "\"\"\"\n",
       "\n",
       "============================================================================\n",
       "                Defects I  Defects II Defects III Defects IIII Defects IIIII\n",
       "----------------------------------------------------------------------------\n",
       "Age                                   15.11***    14.76***     13.93**      \n",
       "                                      (5.04)      (5.06)       (5.42)       \n",
       "Intercept       1427.97*** 1927.93*** 1161.98***  1693.00***   1607.83***   \n",
       "                (53.28)    (88.50)    (243.64)    (143.08)     (147.89)     \n",
       "Maintenance                                       -11.44**                  \n",
       "                                                  (5.32)                    \n",
       "Tool            -38.14***                                                   \n",
       "                (4.48)                                                      \n",
       "inv_Maintenance                       5438.33**                             \n",
       "                                      (2459.40)                             \n",
       "ln_Tool                    -398.39*** -237.83***  -247.07***   -318.61***   \n",
       "                           (37.61)    (56.03)     (54.16)      (45.94)      \n",
       "Adj. R2         0.740      0.816      0.873       0.871        0.851        \n",
       "Prob(F-stat)    1.05e-08   1.58e-10   1.27e-10    1.43e-10     1.17e-10     \n",
       "MSE Residuals   10110.9    7150.6     4958.8      5010.1       5797.4       \n",
       "RMSE Residuals  100.6      84.6       70.4        70.8         76.1         \n",
       "Condition No.   32.3       14.8       1907.6      263.4        110.4        \n",
       "============================================================================\n",
       "Standard errors in parentheses.\n",
       "* p<.1, ** p<.05, ***p<.01\n",
       "\"\"\""
      ]
     },
     "execution_count": 86,
     "metadata": {},
     "output_type": "execute_result"
    }
   ],
   "source": [
    "from statsmodels.iolib.summary2 import summary_col\n",
    "\n",
    "summary_col(\n",
    "    models['results'].to_list(), \n",
    "    stars=True, \n",
    "    float_format='%.2f', \n",
    "    info_dict={\n",
    "        'Adj. R2': lambda x: f'{x.rsquared_adj:.3f}',\n",
    "        'Prob(F-stat)': lambda x: f'{x.f_pvalue:.2e}',\n",
    "        'MSE Residuals': lambda x: f'{x.mse_resid:.1f}',\n",
    "        'RMSE Residuals': lambda x: f'{np.sqrt(x.mse_resid):.1f}',\n",
    "        'Condition No.': lambda x: f'{x.condition_number:.1f}',\n",
    "#         't-values': lambda x: x.tvalues.to_string(),\n",
    "    })"
   ]
  },
  {
   "cell_type": "code",
   "execution_count": 87,
   "metadata": {},
   "outputs": [
    {
     "data": {
      "text/html": [
       "<div>\n",
       "<style scoped>\n",
       "    .dataframe tbody tr th:only-of-type {\n",
       "        vertical-align: middle;\n",
       "    }\n",
       "\n",
       "    .dataframe tbody tr th {\n",
       "        vertical-align: top;\n",
       "    }\n",
       "\n",
       "    .dataframe thead th {\n",
       "        text-align: right;\n",
       "    }\n",
       "</style>\n",
       "<table border=\"1\" class=\"dataframe\">\n",
       "  <thead>\n",
       "    <tr style=\"text-align: right;\">\n",
       "      <th></th>\n",
       "      <th>Model 0</th>\n",
       "      <th>Model 1</th>\n",
       "      <th>Model 2</th>\n",
       "      <th>Model 3</th>\n",
       "      <th>Model 4</th>\n",
       "    </tr>\n",
       "  </thead>\n",
       "  <tbody>\n",
       "    <tr>\n",
       "      <td>features</td>\n",
       "      <td>[Tool]</td>\n",
       "      <td>[ln_Tool]</td>\n",
       "      <td>[ln_Tool, Age, inv_Maintenance]</td>\n",
       "      <td>[ln_Tool, Age, Maintenance]</td>\n",
       "      <td>[ln_Tool, Age]</td>\n",
       "    </tr>\n",
       "    <tr>\n",
       "      <td>Adj R-squared</td>\n",
       "      <td>0.740495</td>\n",
       "      <td>0.816475</td>\n",
       "      <td>0.872729</td>\n",
       "      <td>0.871411</td>\n",
       "      <td>0.851205</td>\n",
       "    </tr>\n",
       "    <tr>\n",
       "      <td>Prob (F-statistic)</td>\n",
       "      <td>1.04988e-08</td>\n",
       "      <td>1.57578e-10</td>\n",
       "      <td>1.27452e-10</td>\n",
       "      <td>1.42652e-10</td>\n",
       "      <td>1.17034e-10</td>\n",
       "    </tr>\n",
       "    <tr>\n",
       "      <td>MSE Residuals</td>\n",
       "      <td>10110.9</td>\n",
       "      <td>7150.58</td>\n",
       "      <td>4958.8</td>\n",
       "      <td>5010.12</td>\n",
       "      <td>5797.39</td>\n",
       "    </tr>\n",
       "    <tr>\n",
       "      <td>RMSE Residuals</td>\n",
       "      <td>100.553</td>\n",
       "      <td>84.5611</td>\n",
       "      <td>70.4187</td>\n",
       "      <td>70.7822</td>\n",
       "      <td>76.1406</td>\n",
       "    </tr>\n",
       "    <tr>\n",
       "      <td>Condition Number</td>\n",
       "      <td>32.3025</td>\n",
       "      <td>14.7597</td>\n",
       "      <td>1907.59</td>\n",
       "      <td>263.378</td>\n",
       "      <td>110.393</td>\n",
       "    </tr>\n",
       "  </tbody>\n",
       "</table>\n",
       "</div>"
      ],
      "text/plain": [
       "                        Model 0      Model 1                          Model 2  \\\n",
       "features                 [Tool]    [ln_Tool]  [ln_Tool, Age, inv_Maintenance]   \n",
       "Adj R-squared          0.740495     0.816475                         0.872729   \n",
       "Prob (F-statistic)  1.04988e-08  1.57578e-10                      1.27452e-10   \n",
       "MSE Residuals           10110.9      7150.58                           4958.8   \n",
       "RMSE Residuals          100.553      84.5611                          70.4187   \n",
       "Condition Number        32.3025      14.7597                          1907.59   \n",
       "\n",
       "                                        Model 3         Model 4  \n",
       "features            [ln_Tool, Age, Maintenance]  [ln_Tool, Age]  \n",
       "Adj R-squared                          0.871411        0.851205  \n",
       "Prob (F-statistic)                  1.42652e-10     1.17034e-10  \n",
       "MSE Residuals                           5010.12         5797.39  \n",
       "RMSE Residuals                          70.7822         76.1406  \n",
       "Condition Number                        263.378         110.393  "
      ]
     },
     "execution_count": 87,
     "metadata": {},
     "output_type": "execute_result"
    }
   ],
   "source": [
    "models[[\n",
    "    'features',\n",
    "    'Adj R-squared', \n",
    "    'Prob (F-statistic)', \n",
    "    'MSE Residuals',\n",
    "    'RMSE Residuals',\n",
    "#     'AIC',\n",
    "#     'BIC',\n",
    "    'Condition Number',\n",
    "]].T"
   ]
  },
  {
   "cell_type": "code",
   "execution_count": 88,
   "metadata": {},
   "outputs": [
    {
     "data": {
      "text/html": [
       "<div>\n",
       "<style scoped>\n",
       "    .dataframe tbody tr th:only-of-type {\n",
       "        vertical-align: middle;\n",
       "    }\n",
       "\n",
       "    .dataframe tbody tr th {\n",
       "        vertical-align: top;\n",
       "    }\n",
       "\n",
       "    .dataframe thead th {\n",
       "        text-align: right;\n",
       "    }\n",
       "</style>\n",
       "<table border=\"1\" class=\"dataframe\">\n",
       "  <thead>\n",
       "    <tr style=\"text-align: right;\">\n",
       "      <th></th>\n",
       "      <th>Model 0</th>\n",
       "      <th>Model 1</th>\n",
       "      <th>Model 2</th>\n",
       "      <th>Model 3</th>\n",
       "      <th>Model 4</th>\n",
       "    </tr>\n",
       "  </thead>\n",
       "  <tbody>\n",
       "    <tr>\n",
       "      <td>0</td>\n",
       "      <td>1.0</td>\n",
       "      <td>1.000000</td>\n",
       "      <td>1.000000</td>\n",
       "      <td>1.000000</td>\n",
       "      <td>1.000000</td>\n",
       "    </tr>\n",
       "    <tr>\n",
       "      <td>1</td>\n",
       "      <td>1.0</td>\n",
       "      <td>1.000000</td>\n",
       "      <td>1.000000</td>\n",
       "      <td>1.000000</td>\n",
       "      <td>1.000000</td>\n",
       "    </tr>\n",
       "    <tr>\n",
       "      <td>2</td>\n",
       "      <td>1.0</td>\n",
       "      <td>1.000000</td>\n",
       "      <td>1.000000</td>\n",
       "      <td>1.000000</td>\n",
       "      <td>1.000000</td>\n",
       "    </tr>\n",
       "    <tr>\n",
       "      <td>3</td>\n",
       "      <td>1.0</td>\n",
       "      <td>1.000000</td>\n",
       "      <td>1.000000</td>\n",
       "      <td>1.000000</td>\n",
       "      <td>1.000000</td>\n",
       "    </tr>\n",
       "    <tr>\n",
       "      <td>4</td>\n",
       "      <td>1.0</td>\n",
       "      <td>1.000000</td>\n",
       "      <td>1.000000</td>\n",
       "      <td>1.000000</td>\n",
       "      <td>1.000000</td>\n",
       "    </tr>\n",
       "    <tr>\n",
       "      <td>5</td>\n",
       "      <td>1.0</td>\n",
       "      <td>0.751498</td>\n",
       "      <td>0.818401</td>\n",
       "      <td>1.000000</td>\n",
       "      <td>1.000000</td>\n",
       "    </tr>\n",
       "    <tr>\n",
       "      <td>6</td>\n",
       "      <td>1.0</td>\n",
       "      <td>1.000000</td>\n",
       "      <td>1.000000</td>\n",
       "      <td>1.000000</td>\n",
       "      <td>1.000000</td>\n",
       "    </tr>\n",
       "    <tr>\n",
       "      <td>7</td>\n",
       "      <td>1.0</td>\n",
       "      <td>1.000000</td>\n",
       "      <td>1.000000</td>\n",
       "      <td>1.000000</td>\n",
       "      <td>1.000000</td>\n",
       "    </tr>\n",
       "    <tr>\n",
       "      <td>8</td>\n",
       "      <td>1.0</td>\n",
       "      <td>1.000000</td>\n",
       "      <td>1.000000</td>\n",
       "      <td>1.000000</td>\n",
       "      <td>1.000000</td>\n",
       "    </tr>\n",
       "    <tr>\n",
       "      <td>9</td>\n",
       "      <td>1.0</td>\n",
       "      <td>1.000000</td>\n",
       "      <td>1.000000</td>\n",
       "      <td>1.000000</td>\n",
       "      <td>1.000000</td>\n",
       "    </tr>\n",
       "    <tr>\n",
       "      <td>10</td>\n",
       "      <td>1.0</td>\n",
       "      <td>1.000000</td>\n",
       "      <td>1.000000</td>\n",
       "      <td>1.000000</td>\n",
       "      <td>1.000000</td>\n",
       "    </tr>\n",
       "    <tr>\n",
       "      <td>11</td>\n",
       "      <td>1.0</td>\n",
       "      <td>1.000000</td>\n",
       "      <td>1.000000</td>\n",
       "      <td>1.000000</td>\n",
       "      <td>1.000000</td>\n",
       "    </tr>\n",
       "    <tr>\n",
       "      <td>12</td>\n",
       "      <td>1.0</td>\n",
       "      <td>1.000000</td>\n",
       "      <td>1.000000</td>\n",
       "      <td>1.000000</td>\n",
       "      <td>1.000000</td>\n",
       "    </tr>\n",
       "    <tr>\n",
       "      <td>13</td>\n",
       "      <td>1.0</td>\n",
       "      <td>1.000000</td>\n",
       "      <td>1.000000</td>\n",
       "      <td>1.000000</td>\n",
       "      <td>1.000000</td>\n",
       "    </tr>\n",
       "    <tr>\n",
       "      <td>14</td>\n",
       "      <td>1.0</td>\n",
       "      <td>1.000000</td>\n",
       "      <td>1.000000</td>\n",
       "      <td>1.000000</td>\n",
       "      <td>1.000000</td>\n",
       "    </tr>\n",
       "    <tr>\n",
       "      <td>15</td>\n",
       "      <td>1.0</td>\n",
       "      <td>1.000000</td>\n",
       "      <td>1.000000</td>\n",
       "      <td>1.000000</td>\n",
       "      <td>1.000000</td>\n",
       "    </tr>\n",
       "    <tr>\n",
       "      <td>16</td>\n",
       "      <td>1.0</td>\n",
       "      <td>1.000000</td>\n",
       "      <td>0.223184</td>\n",
       "      <td>0.208473</td>\n",
       "      <td>0.904042</td>\n",
       "    </tr>\n",
       "    <tr>\n",
       "      <td>17</td>\n",
       "      <td>1.0</td>\n",
       "      <td>1.000000</td>\n",
       "      <td>1.000000</td>\n",
       "      <td>1.000000</td>\n",
       "      <td>1.000000</td>\n",
       "    </tr>\n",
       "    <tr>\n",
       "      <td>18</td>\n",
       "      <td>1.0</td>\n",
       "      <td>1.000000</td>\n",
       "      <td>1.000000</td>\n",
       "      <td>1.000000</td>\n",
       "      <td>1.000000</td>\n",
       "    </tr>\n",
       "    <tr>\n",
       "      <td>19</td>\n",
       "      <td>1.0</td>\n",
       "      <td>1.000000</td>\n",
       "      <td>1.000000</td>\n",
       "      <td>1.000000</td>\n",
       "      <td>1.000000</td>\n",
       "    </tr>\n",
       "    <tr>\n",
       "      <td>20</td>\n",
       "      <td>1.0</td>\n",
       "      <td>1.000000</td>\n",
       "      <td>1.000000</td>\n",
       "      <td>1.000000</td>\n",
       "      <td>1.000000</td>\n",
       "    </tr>\n",
       "    <tr>\n",
       "      <td>21</td>\n",
       "      <td>1.0</td>\n",
       "      <td>1.000000</td>\n",
       "      <td>1.000000</td>\n",
       "      <td>1.000000</td>\n",
       "      <td>1.000000</td>\n",
       "    </tr>\n",
       "    <tr>\n",
       "      <td>22</td>\n",
       "      <td>1.0</td>\n",
       "      <td>1.000000</td>\n",
       "      <td>1.000000</td>\n",
       "      <td>1.000000</td>\n",
       "      <td>1.000000</td>\n",
       "    </tr>\n",
       "    <tr>\n",
       "      <td>23</td>\n",
       "      <td>1.0</td>\n",
       "      <td>1.000000</td>\n",
       "      <td>1.000000</td>\n",
       "      <td>1.000000</td>\n",
       "      <td>1.000000</td>\n",
       "    </tr>\n",
       "    <tr>\n",
       "      <td>24</td>\n",
       "      <td>1.0</td>\n",
       "      <td>1.000000</td>\n",
       "      <td>1.000000</td>\n",
       "      <td>1.000000</td>\n",
       "      <td>1.000000</td>\n",
       "    </tr>\n",
       "    <tr>\n",
       "      <td>25</td>\n",
       "      <td>1.0</td>\n",
       "      <td>1.000000</td>\n",
       "      <td>1.000000</td>\n",
       "      <td>1.000000</td>\n",
       "      <td>1.000000</td>\n",
       "    </tr>\n",
       "  </tbody>\n",
       "</table>\n",
       "</div>"
      ],
      "text/plain": [
       "    Model 0   Model 1   Model 2   Model 3   Model 4\n",
       "0       1.0  1.000000  1.000000  1.000000  1.000000\n",
       "1       1.0  1.000000  1.000000  1.000000  1.000000\n",
       "2       1.0  1.000000  1.000000  1.000000  1.000000\n",
       "3       1.0  1.000000  1.000000  1.000000  1.000000\n",
       "4       1.0  1.000000  1.000000  1.000000  1.000000\n",
       "5       1.0  0.751498  0.818401  1.000000  1.000000\n",
       "6       1.0  1.000000  1.000000  1.000000  1.000000\n",
       "7       1.0  1.000000  1.000000  1.000000  1.000000\n",
       "8       1.0  1.000000  1.000000  1.000000  1.000000\n",
       "9       1.0  1.000000  1.000000  1.000000  1.000000\n",
       "10      1.0  1.000000  1.000000  1.000000  1.000000\n",
       "11      1.0  1.000000  1.000000  1.000000  1.000000\n",
       "12      1.0  1.000000  1.000000  1.000000  1.000000\n",
       "13      1.0  1.000000  1.000000  1.000000  1.000000\n",
       "14      1.0  1.000000  1.000000  1.000000  1.000000\n",
       "15      1.0  1.000000  1.000000  1.000000  1.000000\n",
       "16      1.0  1.000000  0.223184  0.208473  0.904042\n",
       "17      1.0  1.000000  1.000000  1.000000  1.000000\n",
       "18      1.0  1.000000  1.000000  1.000000  1.000000\n",
       "19      1.0  1.000000  1.000000  1.000000  1.000000\n",
       "20      1.0  1.000000  1.000000  1.000000  1.000000\n",
       "21      1.0  1.000000  1.000000  1.000000  1.000000\n",
       "22      1.0  1.000000  1.000000  1.000000  1.000000\n",
       "23      1.0  1.000000  1.000000  1.000000  1.000000\n",
       "24      1.0  1.000000  1.000000  1.000000  1.000000\n",
       "25      1.0  1.000000  1.000000  1.000000  1.000000"
      ]
     },
     "execution_count": 88,
     "metadata": {},
     "output_type": "execute_result"
    }
   ],
   "source": [
    "outlier_test = pd.DataFrame(columns=models.index)\n",
    "for i, model in models.iterrows():\n",
    "    outlier_test[i] = model['results'].outlier_test(alpha=0.05)['bonf(p)']\n",
    "outlier_test"
   ]
  },
  {
   "cell_type": "code",
   "execution_count": 89,
   "metadata": {},
   "outputs": [
    {
     "data": {
      "image/png": "[encoded data removed]",
      "text/plain": [
       "<Figure size 432x288 with 1 Axes>"
      ]
     },
     "metadata": {
      "needs_background": "light"
     },
     "output_type": "display_data"
    }
   ],
   "source": [
    "fig, ax = plt.subplots()\n",
    "fig = sm.graphics.influence_plot(models.loc['Model 0']['results'], ax=ax, criterion=\"cooks\")"
   ]
  },
  {
   "cell_type": "code",
   "execution_count": 90,
   "metadata": {},
   "outputs": [
    {
     "data": {
      "image/png": "[encoded data removed]",
      "text/plain": [
       "<Figure size 864x576 with 2 Axes>"
      ]
     },
     "metadata": {
      "needs_background": "light"
     },
     "output_type": "display_data"
    }
   ],
   "source": [
    "fig = plt.figure(figsize=(12,8))\n",
    "fig = sm.graphics.plot_partregress_grid(models.loc['Model 0', 'results'], fig=fig)"
   ]
  },
  {
   "cell_type": "code",
   "execution_count": 91,
   "metadata": {},
   "outputs": [
    {
     "data": {
      "image/png": "[encoded data removed]",
      "text/plain": [
       "<Figure size 864x576 with 1 Axes>"
      ]
     },
     "metadata": {
      "needs_background": "light"
     },
     "output_type": "display_data"
    }
   ],
   "source": [
    "fig = plt.figure(figsize=(12, 8))\n",
    "fig = sm.graphics.plot_ccpr_grid(models.loc['Model 0', 'results'], fig=fig)"
   ]
  },
  {
   "cell_type": "code",
   "execution_count": 92,
   "metadata": {},
   "outputs": [
    {
     "data": {
      "image/png": "[encoded data removed]",
      "text/plain": [
       "<Figure size 576x432 with 4 Axes>"
      ]
     },
     "metadata": {
      "needs_background": "light"
     },
     "output_type": "display_data"
    }
   ],
   "source": [
    "fig = ax = {}\n",
    "for i, feature in enumerate(models.loc['Model 0', 'features']):\n",
    "    fig[i] = plt.figure(figsize=(8,6))\n",
    "    fig[i] = sm.graphics.plot_regress_exog(models.loc['Model 0', 'results'], feature, fig=fig[i])\n",
    "# fig = sm.graphics.plot_regress_exog(models.loc[3, 'results'], \"ln_Tool\", fig=fig)"
   ]
  },
  {
   "cell_type": "code",
   "execution_count": 93,
   "metadata": {},
   "outputs": [
    {
     "data": {
      "image/png": "[encoded data removed]",
      "text/plain": [
       "<Figure size 432x288 with 1 Axes>"
      ]
     },
     "metadata": {
      "needs_background": "light"
     },
     "output_type": "display_data"
    }
   ],
   "source": [
    "sm.graphics.plot_leverage_resid2(models.loc['Model 0', 'results']);"
   ]
  },
  {
   "cell_type": "code",
   "execution_count": 94,
   "metadata": {},
   "outputs": [
    {
     "data": {
      "image/png": "[encoded data removed]",
      "text/plain": [
       "<Figure size 921.6x1036.8 with 6 Axes>"
      ]
     },
     "metadata": {
      "needs_background": "light"
     },
     "output_type": "display_data"
    }
   ],
   "source": [
    "n_rows = int(np.ceil(n_models/2))\n",
    "\n",
    "fig, ax = plt.subplots(n_rows, 2, figsize=(6.4*2, n_rows*4.8))\n",
    "i = 0\n",
    "for idx, model in models.iterrows():\n",
    "    y = model['y']\n",
    "    y_pred = model['y_pred']\n",
    "    \n",
    "    ax_t = ax[i//2, i%2]\n",
    "    ax_t.plot(y_pred, y, 'o')\n",
    "    ax_t.plot([min(y), max(y)], [min(y), max(y)], 'k--', linewidth=0.5)\n",
    "    ax_t.set_title(f'{idx}: Predicted vs Actual Defects')\n",
    "    ax_t.set_xlabel('Predicted Defects')\n",
    "    ax_t.set_ylabel('Actual Defects')\n",
    "    ax_t.axhline(np.median(y), c='k', ls='--', lw=0.5)\n",
    "    ax_t.axhline(np.quantile(y, 0.25), c='k', ls='--', lw=0.25)\n",
    "    ax_t.axhline(np.quantile(y, 0.75), c='k', ls='--', lw=0.25)\n",
    "    ax_t.axvline(np.median(y), c='k', ls='--', lw=0.5)\n",
    "    ax_t.axvline(np.quantile(y, 0.25), c='k', ls='--', lw=0.25)\n",
    "    ax_t.axvline(np.quantile(y, 0.75), c='k', ls='--', lw=0.25)\n",
    "    \n",
    "    i += 1\n",
    "plt.tight_layout()\n",
    "plt.show()"
   ]
  },
  {
   "cell_type": "code",
   "execution_count": 95,
   "metadata": {},
   "outputs": [
    {
     "data": {
      "image/png": "[encoded data removed]",
      "text/plain": [
       "<Figure size 432x288 with 1 Axes>"
      ]
     },
     "metadata": {
      "needs_background": "light"
     },
     "output_type": "display_data"
    }
   ],
   "source": [
    "fig, ax = plt.subplots()\n",
    "for i, model in models.iterrows():\n",
    "    plt.plot(model['y_pred'], model['y'], 'o', label=f'Model {i}')\n",
    "\n",
    "plt.plot([min(y), max(y)], [min(y), max(y)], 'k--', linewidth=0.5)\n",
    "plt.title('Predicted vs Actual Defects')\n",
    "plt.xlabel('Predicted Defects')\n",
    "plt.ylabel('Actual Defects')\n",
    "plt.axhline(np.median(y), c='k', ls='--', lw=0.5)\n",
    "plt.axhline(np.quantile(y, 0.25), c='k', ls='--', lw=0.25)\n",
    "plt.axhline(np.quantile(y, 0.75), c='k', ls='--', lw=0.25)\n",
    "plt.axvline(np.median(y), c='k', ls='--', lw=0.5)\n",
    "plt.axvline(np.quantile(y, 0.25), c='k', ls='--', lw=0.25)\n",
    "plt.axvline(np.quantile(y, 0.75), c='k', ls='--', lw=0.25)\n",
    "plt.legend()\n",
    "plt.tight_layout()\n",
    "plt.show()"
   ]
  },
  {
   "cell_type": "code",
   "execution_count": null,
   "metadata": {},
   "outputs": [],
   "source": []
  },
  {
   "cell_type": "code",
   "execution_count": null,
   "metadata": {},
   "outputs": [],
   "source": []
  },
  {
   "cell_type": "code",
   "execution_count": null,
   "metadata": {},
   "outputs": [],
   "source": []
  },
  {
   "cell_type": "code",
   "execution_count": null,
   "metadata": {},
   "outputs": [],
   "source": []
  },
  {
   "cell_type": "code",
   "execution_count": null,
   "metadata": {},
   "outputs": [],
   "source": []
  },
  {
   "cell_type": "code",
   "execution_count": null,
   "metadata": {},
   "outputs": [],
   "source": []
  },
  {
   "cell_type": "code",
   "execution_count": null,
   "metadata": {},
   "outputs": [],
   "source": []
  },
  {
   "cell_type": "code",
   "execution_count": null,
   "metadata": {},
   "outputs": [],
   "source": []
  },
  {
   "cell_type": "code",
   "execution_count": null,
   "metadata": {},
   "outputs": [],
   "source": []
  },
  {
   "cell_type": "markdown",
   "metadata": {},
   "source": [
    "# Linear regression (using statsmodels)"
   ]
  },
  {
   "cell_type": "code",
   "execution_count": null,
   "metadata": {},
   "outputs": [],
   "source": [
    "import statsmodels.api as sm"
   ]
  },
  {
   "cell_type": "code",
   "execution_count": null,
   "metadata": {},
   "outputs": [],
   "source": [
    "df.head(2)"
   ]
  },
  {
   "cell_type": "markdown",
   "metadata": {},
   "source": [
    "## Model 1"
   ]
  },
  {
   "cell_type": "code",
   "execution_count": null,
   "metadata": {},
   "outputs": [],
   "source": [
    "features = ['Tool', 'Age', 'Maintenance']\n",
    "X = df[features]\n",
    "# X = sm.add_constant(X.values) # add intercept feature --> deprecated\n",
    "X.insert(0, 'Intercept', 1) # add intercept feature\n",
    "y = df['Defects']"
   ]
  },
  {
   "cell_type": "code",
   "execution_count": null,
   "metadata": {},
   "outputs": [],
   "source": [
    "mod = sm.OLS(y, X) # Ordinary Least Squares linear regression\n",
    "res = mod.fit()"
   ]
  },
  {
   "cell_type": "code",
   "execution_count": null,
   "metadata": {},
   "outputs": [],
   "source": [
    "y_pred = res.predict(X)"
   ]
  },
  {
   "cell_type": "code",
   "execution_count": null,
   "metadata": {},
   "outputs": [],
   "source": [
    "res.summary()"
   ]
  },
  {
   "cell_type": "code",
   "execution_count": null,
   "metadata": {},
   "outputs": [],
   "source": [
    "plt.plot(y_pred, y, '.')\n",
    "plt.plot([min(y), max(y)], [min(y), max(y)], 'k--', linewidth=0.5)\n",
    "plt.title('Predicted vs Actual Defects')\n",
    "plt.xlabel('Predicted Defects')\n",
    "plt.ylabel('Actual Defects')\n",
    "plt.axhline(np.median(y), c='k', ls='--', lw=0.5)\n",
    "plt.axvline(np.median(y), c='k', ls='--', lw=0.5)\n",
    "plt.show()"
   ]
  },
  {
   "cell_type": "markdown",
   "metadata": {},
   "source": [
    "## Model 2"
   ]
  },
  {
   "cell_type": "code",
   "execution_count": null,
   "metadata": {},
   "outputs": [],
   "source": [
    "df['inv_Tool'] = 1/df['Tool']\n",
    "df.head(2)"
   ]
  },
  {
   "cell_type": "code",
   "execution_count": null,
   "metadata": {},
   "outputs": [],
   "source": [
    "features = ['inv_Tool', 'Age', 'Maintenance']\n",
    "X = df[features]\n",
    "# X = sm.add_constant(X.values) # add intercept feature --> deprecated\n",
    "X.insert(0, 'Intercept', 1) # add intercept feature\n",
    "y = df['Defects']"
   ]
  },
  {
   "cell_type": "code",
   "execution_count": null,
   "metadata": {},
   "outputs": [],
   "source": [
    "mod = sm.OLS(y, X)\n",
    "res = mod.fit()"
   ]
  },
  {
   "cell_type": "code",
   "execution_count": null,
   "metadata": {},
   "outputs": [],
   "source": [
    "y_pred = res.predict(X)"
   ]
  },
  {
   "cell_type": "code",
   "execution_count": null,
   "metadata": {},
   "outputs": [],
   "source": [
    "res.summary()"
   ]
  },
  {
   "cell_type": "code",
   "execution_count": null,
   "metadata": {},
   "outputs": [],
   "source": [
    "plt.plot(y_pred, y, '.')\n",
    "plt.plot([min(y), max(y)], [min(y), max(y)], 'k--', linewidth=0.5)\n",
    "plt.title('Predicted vs Actual Defects')\n",
    "plt.xlabel('Predicted Defects')\n",
    "plt.ylabel('Actual Defects')\n",
    "plt.axhline(np.median(y), c='k', ls='--', lw=0.5)\n",
    "plt.axvline(np.median(y), c='k', ls='--', lw=0.5)\n",
    "plt.show()"
   ]
  },
  {
   "cell_type": "markdown",
   "metadata": {},
   "source": [
    "## Model 3"
   ]
  },
  {
   "cell_type": "code",
   "execution_count": null,
   "metadata": {},
   "outputs": [],
   "source": [
    "features = ['ln_Tool', 'Age', 'inv_Maintenance']\n",
    "X = df[features]\n",
    "# X = sm.add_constant(X.values) # add intercept feature --> deprecated\n",
    "X.insert(0, 'Intercept', 1) # add intercept feature\n",
    "y = df['Defects']"
   ]
  },
  {
   "cell_type": "code",
   "execution_count": null,
   "metadata": {},
   "outputs": [],
   "source": [
    "mod = sm.OLS(y, X) # Ordinary Least Squares linear regression\n",
    "res = mod.fit()"
   ]
  },
  {
   "cell_type": "code",
   "execution_count": null,
   "metadata": {},
   "outputs": [],
   "source": [
    "y_pred = res.predict(X)"
   ]
  },
  {
   "cell_type": "code",
   "execution_count": null,
   "metadata": {},
   "outputs": [],
   "source": [
    "res.summary()"
   ]
  },
  {
   "cell_type": "code",
   "execution_count": null,
   "metadata": {},
   "outputs": [],
   "source": [
    "plt.plot(y_pred, y, '.')\n",
    "plt.plot([min(y), max(y)], [min(y), max(y)], 'k--', linewidth=0.5)\n",
    "plt.title('Predicted vs Actual Defects')\n",
    "plt.xlabel('Predicted Defects')\n",
    "plt.ylabel('Actual Defects')\n",
    "plt.axhline(np.median(y), c='k', ls='--', lw=0.5)\n",
    "plt.axvline(np.median(y), c='k', ls='--', lw=0.5)\n",
    "plt.show()"
   ]
  },
  {
   "cell_type": "markdown",
   "metadata": {},
   "source": [
    "# Linear regression (using scikit-learn)"
   ]
  },
  {
   "cell_type": "code",
   "execution_count": null,
   "metadata": {},
   "outputs": [],
   "source": [
    "from sklearn.linear_model import LinearRegression\n",
    "from sklearn import metrics"
   ]
  },
  {
   "cell_type": "code",
   "execution_count": null,
   "metadata": {},
   "outputs": [],
   "source": [
    "df.head(2)"
   ]
  },
  {
   "cell_type": "markdown",
   "metadata": {},
   "source": [
    "## Model 1"
   ]
  },
  {
   "cell_type": "code",
   "execution_count": null,
   "metadata": {},
   "outputs": [],
   "source": [
    "features = ['Tool', 'Age', 'Maintenance']\n",
    "X = df[features].values\n",
    "y = df['Defects'].values"
   ]
  },
  {
   "cell_type": "code",
   "execution_count": null,
   "metadata": {},
   "outputs": [],
   "source": [
    "regressor = LinearRegression()  \n",
    "regressor.fit(X, y)\n",
    "y_pred = regressor.predict(X)"
   ]
  },
  {
   "cell_type": "code",
   "execution_count": null,
   "metadata": {},
   "outputs": [],
   "source": [
    "coeff_df = pd.DataFrame([regressor.intercept_], ['Intercept'], columns=['Coefficient'])\n",
    "coeff_df = coeff_df.append(pd.DataFrame(regressor.coef_, features, columns=['Coefficient']))\n",
    "coeff_df"
   ]
  },
  {
   "cell_type": "code",
   "execution_count": null,
   "metadata": {},
   "outputs": [],
   "source": [
    "MAE = metrics.mean_absolute_error(y, y_pred)\n",
    "MSE = metrics.mean_squared_error(y, y_pred)\n",
    "RMSE = np.sqrt(metrics.mean_squared_error(y, y_pred))\n",
    "R2 = metrics.r2_score(y, y_pred)\n",
    "\n",
    "print(f'Mean Absolute Error:     {MAE:7.2f}')\n",
    "print(f'Mean Squared Error:      {MSE:7.2f}')\n",
    "print(f'Root Mean Squared Error: {RMSE:7.2f}')\n",
    "print(f'R^2 Score:               {R2:7.2f}')\n",
    "\n",
    "print(f'RMSE/mean:\\t{RMSE/y.mean():.1%}')\n",
    "print(f'RMSE/range:\\t{RMSE/(y.max()-y.min()):.1%}')"
   ]
  },
  {
   "cell_type": "code",
   "execution_count": null,
   "metadata": {},
   "outputs": [],
   "source": [
    "plt.plot(y_pred, y, '.')\n",
    "plt.plot([min(y), max(y)], [min(y), max(y)], 'k--', linewidth=0.5)\n",
    "plt.title('Predicted vs Actual Defects')\n",
    "plt.xlabel('Predicted Defects')\n",
    "plt.ylabel('Actual Defects')\n",
    "plt.axhline(np.median(y), c='k', ls='--', lw=0.5)\n",
    "plt.axvline(np.median(y), c='k', ls='--', lw=0.5)\n",
    "plt.show()"
   ]
  },
  {
   "cell_type": "markdown",
   "metadata": {},
   "source": [
    "## Model 2"
   ]
  },
  {
   "cell_type": "code",
   "execution_count": null,
   "metadata": {},
   "outputs": [],
   "source": [
    "df.head(2)"
   ]
  },
  {
   "cell_type": "code",
   "execution_count": null,
   "metadata": {},
   "outputs": [],
   "source": [
    "df['inv_Tool'] = 1/df['Tool']\n",
    "df.head(2)"
   ]
  },
  {
   "cell_type": "code",
   "execution_count": null,
   "metadata": {},
   "outputs": [],
   "source": [
    "X = df[['inv_Tool', 'Age', 'Maintenance']].values\n",
    "y = df['Defects'].values"
   ]
  },
  {
   "cell_type": "code",
   "execution_count": null,
   "metadata": {},
   "outputs": [],
   "source": [
    "regressor = LinearRegression()  \n",
    "regressor.fit(X, y)\n",
    "y_pred = regressor.predict(X)"
   ]
  },
  {
   "cell_type": "code",
   "execution_count": null,
   "metadata": {},
   "outputs": [],
   "source": [
    "coeff_df = pd.DataFrame(regressor.coef_, ['Tool', 'Age', 'Maintenance'], columns=['Coefficient'])  \n",
    "coeff_df"
   ]
  },
  {
   "cell_type": "code",
   "execution_count": null,
   "metadata": {},
   "outputs": [],
   "source": [
    "MAE = metrics.mean_absolute_error(y, y_pred)\n",
    "MSE = metrics.mean_squared_error(y, y_pred)\n",
    "RMSE = np.sqrt(metrics.mean_squared_error(y, y_pred))\n",
    "\n",
    "print(f'Mean Absolute Error:     {MAE:7.2f}')\n",
    "print(f'Mean Squared Error:      {MSE:7.2f}')\n",
    "print(f'Root Mean Squared Error: {RMSE:7.2f}')\n",
    "\n",
    "print(f'RMSE/mean:\\t{RMSE/y.mean():.1%}')\n",
    "print(f'RMSE/range:\\t{RMSE/(y.max()-y.min()):.1%}')"
   ]
  },
  {
   "cell_type": "code",
   "execution_count": null,
   "metadata": {},
   "outputs": [],
   "source": [
    "plt.plot(y_pred, y, '.')\n",
    "plt.plot([min(y), max(y)], [min(y), max(y)], 'k--', linewidth=0.5)\n",
    "plt.title('Predicted vs Actual Defects')\n",
    "plt.xlabel('Predicted Defects')\n",
    "plt.ylabel('Actual Defects')\n",
    "plt.axhline(np.median(y), c='k', ls='--', lw=0.5)\n",
    "plt.axvline(np.median(y), c='k', ls='--', lw=0.5)\n",
    "plt.show()"
   ]
  },
  {
   "cell_type": "markdown",
   "metadata": {},
   "source": [
    "# Linear regression with test data"
   ]
  },
  {
   "cell_type": "code",
   "execution_count": null,
   "metadata": {},
   "outputs": [],
   "source": [
    "from sklearn.model_selection import train_test_split \n",
    "from sklearn.linear_model import LinearRegression\n",
    "from sklearn import metrics"
   ]
  },
  {
   "cell_type": "code",
   "execution_count": null,
   "metadata": {},
   "outputs": [],
   "source": [
    "X = df[['Tool', 'Age', 'Maintenance']].values\n",
    "y = df['Defects'].values"
   ]
  },
  {
   "cell_type": "code",
   "execution_count": null,
   "metadata": {},
   "outputs": [],
   "source": [
    "X_train, X_test, y_train, y_test = train_test_split(X, y, test_size=0.2, random_state=0)"
   ]
  },
  {
   "cell_type": "code",
   "execution_count": null,
   "metadata": {},
   "outputs": [],
   "source": [
    "regressor = LinearRegression()  \n",
    "regressor.fit(X_train, y_train)"
   ]
  },
  {
   "cell_type": "code",
   "execution_count": null,
   "metadata": {},
   "outputs": [],
   "source": [
    "coeff_df = pd.DataFrame(regressor.coef_, ['Tool', 'Age', 'Maintenance'], columns=['Coefficient'])  \n",
    "coeff_df"
   ]
  },
  {
   "cell_type": "code",
   "execution_count": null,
   "metadata": {},
   "outputs": [],
   "source": [
    "y_pred = regressor.predict(X_test)"
   ]
  },
  {
   "cell_type": "code",
   "execution_count": null,
   "metadata": {},
   "outputs": [],
   "source": [
    "df_r = pd.DataFrame({'Actual': y_test, 'Predicted': y_pred})\n",
    "df_r"
   ]
  },
  {
   "cell_type": "code",
   "execution_count": null,
   "metadata": {},
   "outputs": [],
   "source": [
    "df_r.plot(kind='bar')\n",
    "plt.show()"
   ]
  },
  {
   "cell_type": "code",
   "execution_count": null,
   "metadata": {
    "scrolled": true
   },
   "outputs": [],
   "source": [
    "MAE = metrics.mean_absolute_error(y_test, y_pred)\n",
    "MSE = metrics.mean_squared_error(y_test, y_pred)\n",
    "RMSE = np.sqrt(metrics.mean_squared_error(y_test, y_pred))\n",
    "\n",
    "print(f'Mean Absolute Error:     {MAE:7.2f}')\n",
    "print(f'Mean Squared Error:      {MSE:7.2f}')\n",
    "print(f'Root Mean Squared Error: {RMSE:7.2f}')\n",
    "\n",
    "print(f'RMSE/mean:\\t{RMSE/y_test.mean():.1%}')\n",
    "print(f'RMSE/range:\\t{RMSE/(y_test.max()-y_test.min()):.1%}')"
   ]
  },
  {
   "cell_type": "code",
   "execution_count": null,
   "metadata": {},
   "outputs": [],
   "source": [
    "y_pred_all = regressor.predict(X)\n",
    "plt.plot(y_pred_all, y, '.', label='All')\n",
    "plt.plot(y_pred, y_test, '.', label='Test')\n",
    "plt.plot([min(y), max(y)], [min(y), max(y)], 'k--', linewidth=0.5)\n",
    "plt.title('Predicted vs Actual Defects')\n",
    "plt.xlabel('Predicted Defects')\n",
    "plt.ylabel('Actual Defects')\n",
    "plt.axhline(np.median(y), c='k', ls='--', lw=0.5)\n",
    "plt.axvline(np.median(y), c='k', ls='--', lw=0.5)\n",
    "plt.legend()\n",
    "plt.show()"
   ]
  }
 ],
 "metadata": {
  "kernelspec": {
   "display_name": "Python 3",
   "language": "python",
   "name": "python3"
  },
  "language_info": {
   "codemirror_mode": {
    "name": "ipython",
    "version": 3
   },
   "file_extension": ".py",
   "mimetype": "text/x-python",
   "name": "python",
   "nbconvert_exporter": "python",
   "pygments_lexer": "ipython3",
   "version": "3.7.4"
  }
 },
 "nbformat": 4,
 "nbformat_minor": 2
}
